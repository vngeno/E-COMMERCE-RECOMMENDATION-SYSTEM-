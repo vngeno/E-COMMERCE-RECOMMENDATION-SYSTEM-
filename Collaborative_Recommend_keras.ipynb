{
  "nbformat": 4,
  "nbformat_minor": 0,
  "metadata": {
    "kernelspec": {
      "display_name": "Python 3",
      "language": "python",
      "name": "python3"
    },
    "language_info": {
      "codemirror_mode": {
        "name": "ipython",
        "version": 3
      },
      "file_extension": ".py",
      "mimetype": "text/x-python",
      "name": "python",
      "nbconvert_exporter": "python",
      "pygments_lexer": "ipython3",
      "version": "3.7.4"
    },
    "colab": {
      "name": "Collaborative_Recommend_keras.ipynb",
      "provenance": [],
      "include_colab_link": true
    },
    "widgets": {
      "application/vnd.jupyter.widget-state+json": {
        "dc28a82680ce4611893554f5420a66b6": {
          "model_module": "@jupyter-widgets/controls",
          "model_name": "VBoxModel",
          "model_module_version": "1.5.0",
          "state": {
            "_view_name": "VBoxView",
            "_dom_classes": [],
            "_model_name": "VBoxModel",
            "_view_module": "@jupyter-widgets/controls",
            "_model_module_version": "1.5.0",
            "_view_count": null,
            "_view_module_version": "1.5.0",
            "box_style": "",
            "layout": "IPY_MODEL_ffbd2f9b6f354077b42934a02ad9319e",
            "_model_module": "@jupyter-widgets/controls",
            "children": [
              "IPY_MODEL_cbfa9018ba284b179ac2fe5a00574a6d",
              "IPY_MODEL_4e8f78604b344af985e23220e10192f1"
            ]
          }
        },
        "ffbd2f9b6f354077b42934a02ad9319e": {
          "model_module": "@jupyter-widgets/base",
          "model_name": "LayoutModel",
          "model_module_version": "1.2.0",
          "state": {
            "_view_name": "LayoutView",
            "grid_template_rows": null,
            "right": null,
            "justify_content": null,
            "_view_module": "@jupyter-widgets/base",
            "overflow": null,
            "_model_module_version": "1.2.0",
            "_view_count": null,
            "flex_flow": null,
            "width": null,
            "min_width": null,
            "border": null,
            "align_items": null,
            "bottom": null,
            "_model_module": "@jupyter-widgets/base",
            "top": null,
            "grid_column": null,
            "overflow_y": null,
            "overflow_x": null,
            "grid_auto_flow": null,
            "grid_area": null,
            "grid_template_columns": null,
            "flex": null,
            "_model_name": "LayoutModel",
            "justify_items": null,
            "grid_row": null,
            "max_height": null,
            "align_content": null,
            "visibility": null,
            "align_self": null,
            "height": null,
            "min_height": null,
            "padding": null,
            "grid_auto_rows": null,
            "grid_gap": null,
            "max_width": null,
            "order": null,
            "_view_module_version": "1.2.0",
            "grid_template_areas": null,
            "object_position": null,
            "object_fit": null,
            "grid_auto_columns": null,
            "margin": null,
            "display": null,
            "left": null
          }
        },
        "cbfa9018ba284b179ac2fe5a00574a6d": {
          "model_module": "@jupyter-widgets/controls",
          "model_name": "LabelModel",
          "model_module_version": "1.5.0",
          "state": {
            "_view_name": "LabelView",
            "style": "IPY_MODEL_a4f909bcca4242ec84a4a3338b643600",
            "_dom_classes": [],
            "description": "",
            "_model_name": "LabelModel",
            "placeholder": "​",
            "_view_module": "@jupyter-widgets/controls",
            "_model_module_version": "1.5.0",
            "value": " 0.60MB of 0.60MB uploaded (0.00MB deduped)\r",
            "_view_count": null,
            "_view_module_version": "1.5.0",
            "description_tooltip": null,
            "_model_module": "@jupyter-widgets/controls",
            "layout": "IPY_MODEL_b1e09502e0dc46cabf2536f849d56eee"
          }
        },
        "4e8f78604b344af985e23220e10192f1": {
          "model_module": "@jupyter-widgets/controls",
          "model_name": "FloatProgressModel",
          "model_module_version": "1.5.0",
          "state": {
            "_view_name": "ProgressView",
            "style": "IPY_MODEL_b37a3318d72544a58f622df50f3faced",
            "_dom_classes": [],
            "description": "",
            "_model_name": "FloatProgressModel",
            "bar_style": "",
            "max": 1,
            "_view_module": "@jupyter-widgets/controls",
            "_model_module_version": "1.5.0",
            "value": 1,
            "_view_count": null,
            "_view_module_version": "1.5.0",
            "orientation": "horizontal",
            "min": 0,
            "description_tooltip": null,
            "_model_module": "@jupyter-widgets/controls",
            "layout": "IPY_MODEL_80766b039ccd4147b2d1ce2e6661d219"
          }
        },
        "a4f909bcca4242ec84a4a3338b643600": {
          "model_module": "@jupyter-widgets/controls",
          "model_name": "DescriptionStyleModel",
          "model_module_version": "1.5.0",
          "state": {
            "_view_name": "StyleView",
            "_model_name": "DescriptionStyleModel",
            "description_width": "",
            "_view_module": "@jupyter-widgets/base",
            "_model_module_version": "1.5.0",
            "_view_count": null,
            "_view_module_version": "1.2.0",
            "_model_module": "@jupyter-widgets/controls"
          }
        },
        "b1e09502e0dc46cabf2536f849d56eee": {
          "model_module": "@jupyter-widgets/base",
          "model_name": "LayoutModel",
          "model_module_version": "1.2.0",
          "state": {
            "_view_name": "LayoutView",
            "grid_template_rows": null,
            "right": null,
            "justify_content": null,
            "_view_module": "@jupyter-widgets/base",
            "overflow": null,
            "_model_module_version": "1.2.0",
            "_view_count": null,
            "flex_flow": null,
            "width": null,
            "min_width": null,
            "border": null,
            "align_items": null,
            "bottom": null,
            "_model_module": "@jupyter-widgets/base",
            "top": null,
            "grid_column": null,
            "overflow_y": null,
            "overflow_x": null,
            "grid_auto_flow": null,
            "grid_area": null,
            "grid_template_columns": null,
            "flex": null,
            "_model_name": "LayoutModel",
            "justify_items": null,
            "grid_row": null,
            "max_height": null,
            "align_content": null,
            "visibility": null,
            "align_self": null,
            "height": null,
            "min_height": null,
            "padding": null,
            "grid_auto_rows": null,
            "grid_gap": null,
            "max_width": null,
            "order": null,
            "_view_module_version": "1.2.0",
            "grid_template_areas": null,
            "object_position": null,
            "object_fit": null,
            "grid_auto_columns": null,
            "margin": null,
            "display": null,
            "left": null
          }
        },
        "b37a3318d72544a58f622df50f3faced": {
          "model_module": "@jupyter-widgets/controls",
          "model_name": "ProgressStyleModel",
          "model_module_version": "1.5.0",
          "state": {
            "_view_name": "StyleView",
            "_model_name": "ProgressStyleModel",
            "description_width": "",
            "_view_module": "@jupyter-widgets/base",
            "_model_module_version": "1.5.0",
            "_view_count": null,
            "_view_module_version": "1.2.0",
            "bar_color": null,
            "_model_module": "@jupyter-widgets/controls"
          }
        },
        "80766b039ccd4147b2d1ce2e6661d219": {
          "model_module": "@jupyter-widgets/base",
          "model_name": "LayoutModel",
          "model_module_version": "1.2.0",
          "state": {
            "_view_name": "LayoutView",
            "grid_template_rows": null,
            "right": null,
            "justify_content": null,
            "_view_module": "@jupyter-widgets/base",
            "overflow": null,
            "_model_module_version": "1.2.0",
            "_view_count": null,
            "flex_flow": null,
            "width": null,
            "min_width": null,
            "border": null,
            "align_items": null,
            "bottom": null,
            "_model_module": "@jupyter-widgets/base",
            "top": null,
            "grid_column": null,
            "overflow_y": null,
            "overflow_x": null,
            "grid_auto_flow": null,
            "grid_area": null,
            "grid_template_columns": null,
            "flex": null,
            "_model_name": "LayoutModel",
            "justify_items": null,
            "grid_row": null,
            "max_height": null,
            "align_content": null,
            "visibility": null,
            "align_self": null,
            "height": null,
            "min_height": null,
            "padding": null,
            "grid_auto_rows": null,
            "grid_gap": null,
            "max_width": null,
            "order": null,
            "_view_module_version": "1.2.0",
            "grid_template_areas": null,
            "object_position": null,
            "object_fit": null,
            "grid_auto_columns": null,
            "margin": null,
            "display": null,
            "left": null
          }
        },
        "dc711e4edca544c9b6fab10d96be7d76": {
          "model_module": "@jupyter-widgets/controls",
          "model_name": "VBoxModel",
          "model_module_version": "1.5.0",
          "state": {
            "_view_name": "VBoxView",
            "_dom_classes": [],
            "_model_name": "VBoxModel",
            "_view_module": "@jupyter-widgets/controls",
            "_model_module_version": "1.5.0",
            "_view_count": null,
            "_view_module_version": "1.5.0",
            "box_style": "",
            "layout": "IPY_MODEL_ea926fc6c1c64ebd8fd8b89d8fae9908",
            "_model_module": "@jupyter-widgets/controls",
            "children": [
              "IPY_MODEL_f86af74e8af54101b4a588bbc72ed15c",
              "IPY_MODEL_f98bfffa642b4a2f946c301d86ce9779"
            ]
          }
        },
        "ea926fc6c1c64ebd8fd8b89d8fae9908": {
          "model_module": "@jupyter-widgets/base",
          "model_name": "LayoutModel",
          "model_module_version": "1.2.0",
          "state": {
            "_view_name": "LayoutView",
            "grid_template_rows": null,
            "right": null,
            "justify_content": null,
            "_view_module": "@jupyter-widgets/base",
            "overflow": null,
            "_model_module_version": "1.2.0",
            "_view_count": null,
            "flex_flow": null,
            "width": null,
            "min_width": null,
            "border": null,
            "align_items": null,
            "bottom": null,
            "_model_module": "@jupyter-widgets/base",
            "top": null,
            "grid_column": null,
            "overflow_y": null,
            "overflow_x": null,
            "grid_auto_flow": null,
            "grid_area": null,
            "grid_template_columns": null,
            "flex": null,
            "_model_name": "LayoutModel",
            "justify_items": null,
            "grid_row": null,
            "max_height": null,
            "align_content": null,
            "visibility": null,
            "align_self": null,
            "height": null,
            "min_height": null,
            "padding": null,
            "grid_auto_rows": null,
            "grid_gap": null,
            "max_width": null,
            "order": null,
            "_view_module_version": "1.2.0",
            "grid_template_areas": null,
            "object_position": null,
            "object_fit": null,
            "grid_auto_columns": null,
            "margin": null,
            "display": null,
            "left": null
          }
        },
        "f86af74e8af54101b4a588bbc72ed15c": {
          "model_module": "@jupyter-widgets/controls",
          "model_name": "LabelModel",
          "model_module_version": "1.5.0",
          "state": {
            "_view_name": "LabelView",
            "style": "IPY_MODEL_c5d14e3a3161469ebaedab458f3c9372",
            "_dom_classes": [],
            "description": "",
            "_model_name": "LabelModel",
            "placeholder": "​",
            "_view_module": "@jupyter-widgets/controls",
            "_model_module_version": "1.5.0",
            "value": " 1.09MB of 1.09MB uploaded (0.00MB deduped)\r",
            "_view_count": null,
            "_view_module_version": "1.5.0",
            "description_tooltip": null,
            "_model_module": "@jupyter-widgets/controls",
            "layout": "IPY_MODEL_d709409e74d841c581d7c241478bd011"
          }
        },
        "f98bfffa642b4a2f946c301d86ce9779": {
          "model_module": "@jupyter-widgets/controls",
          "model_name": "FloatProgressModel",
          "model_module_version": "1.5.0",
          "state": {
            "_view_name": "ProgressView",
            "style": "IPY_MODEL_ddd99636ae5c4b4f834a292766851bbb",
            "_dom_classes": [],
            "description": "",
            "_model_name": "FloatProgressModel",
            "bar_style": "",
            "max": 1,
            "_view_module": "@jupyter-widgets/controls",
            "_model_module_version": "1.5.0",
            "value": 1,
            "_view_count": null,
            "_view_module_version": "1.5.0",
            "orientation": "horizontal",
            "min": 0,
            "description_tooltip": null,
            "_model_module": "@jupyter-widgets/controls",
            "layout": "IPY_MODEL_63e38901b0ce4de4b521dc997b32cda8"
          }
        },
        "c5d14e3a3161469ebaedab458f3c9372": {
          "model_module": "@jupyter-widgets/controls",
          "model_name": "DescriptionStyleModel",
          "model_module_version": "1.5.0",
          "state": {
            "_view_name": "StyleView",
            "_model_name": "DescriptionStyleModel",
            "description_width": "",
            "_view_module": "@jupyter-widgets/base",
            "_model_module_version": "1.5.0",
            "_view_count": null,
            "_view_module_version": "1.2.0",
            "_model_module": "@jupyter-widgets/controls"
          }
        },
        "d709409e74d841c581d7c241478bd011": {
          "model_module": "@jupyter-widgets/base",
          "model_name": "LayoutModel",
          "model_module_version": "1.2.0",
          "state": {
            "_view_name": "LayoutView",
            "grid_template_rows": null,
            "right": null,
            "justify_content": null,
            "_view_module": "@jupyter-widgets/base",
            "overflow": null,
            "_model_module_version": "1.2.0",
            "_view_count": null,
            "flex_flow": null,
            "width": null,
            "min_width": null,
            "border": null,
            "align_items": null,
            "bottom": null,
            "_model_module": "@jupyter-widgets/base",
            "top": null,
            "grid_column": null,
            "overflow_y": null,
            "overflow_x": null,
            "grid_auto_flow": null,
            "grid_area": null,
            "grid_template_columns": null,
            "flex": null,
            "_model_name": "LayoutModel",
            "justify_items": null,
            "grid_row": null,
            "max_height": null,
            "align_content": null,
            "visibility": null,
            "align_self": null,
            "height": null,
            "min_height": null,
            "padding": null,
            "grid_auto_rows": null,
            "grid_gap": null,
            "max_width": null,
            "order": null,
            "_view_module_version": "1.2.0",
            "grid_template_areas": null,
            "object_position": null,
            "object_fit": null,
            "grid_auto_columns": null,
            "margin": null,
            "display": null,
            "left": null
          }
        },
        "ddd99636ae5c4b4f834a292766851bbb": {
          "model_module": "@jupyter-widgets/controls",
          "model_name": "ProgressStyleModel",
          "model_module_version": "1.5.0",
          "state": {
            "_view_name": "StyleView",
            "_model_name": "ProgressStyleModel",
            "description_width": "",
            "_view_module": "@jupyter-widgets/base",
            "_model_module_version": "1.5.0",
            "_view_count": null,
            "_view_module_version": "1.2.0",
            "bar_color": null,
            "_model_module": "@jupyter-widgets/controls"
          }
        },
        "63e38901b0ce4de4b521dc997b32cda8": {
          "model_module": "@jupyter-widgets/base",
          "model_name": "LayoutModel",
          "model_module_version": "1.2.0",
          "state": {
            "_view_name": "LayoutView",
            "grid_template_rows": null,
            "right": null,
            "justify_content": null,
            "_view_module": "@jupyter-widgets/base",
            "overflow": null,
            "_model_module_version": "1.2.0",
            "_view_count": null,
            "flex_flow": null,
            "width": null,
            "min_width": null,
            "border": null,
            "align_items": null,
            "bottom": null,
            "_model_module": "@jupyter-widgets/base",
            "top": null,
            "grid_column": null,
            "overflow_y": null,
            "overflow_x": null,
            "grid_auto_flow": null,
            "grid_area": null,
            "grid_template_columns": null,
            "flex": null,
            "_model_name": "LayoutModel",
            "justify_items": null,
            "grid_row": null,
            "max_height": null,
            "align_content": null,
            "visibility": null,
            "align_self": null,
            "height": null,
            "min_height": null,
            "padding": null,
            "grid_auto_rows": null,
            "grid_gap": null,
            "max_width": null,
            "order": null,
            "_view_module_version": "1.2.0",
            "grid_template_areas": null,
            "object_position": null,
            "object_fit": null,
            "grid_auto_columns": null,
            "margin": null,
            "display": null,
            "left": null
          }
        }
      }
    }
  },
  "cells": [
    {
      "cell_type": "markdown",
      "metadata": {
        "id": "view-in-github",
        "colab_type": "text"
      },
      "source": [
        "<a href=\"https://colab.research.google.com/github/vngeno/E-COMMERCE-RECOMMENDATION-SYSTEM-/blob/Collaborative-Based-Filtering/Collaborative_Recommend_keras.ipynb\" target=\"_parent\"><img src=\"https://colab.research.google.com/assets/colab-badge.svg\" alt=\"Open In Colab\"/></a>"
      ]
    },
    {
      "cell_type": "markdown",
      "metadata": {
        "id": "Bf5k_Fi-PJSF"
      },
      "source": [
        "### Peak into the dataset"
      ]
    },
    {
      "cell_type": "code",
      "metadata": {
        "colab": {
          "base_uri": "https://localhost:8080/"
        },
        "id": "7hGlLPxIefWQ",
        "outputId": "03655bec-db34-4e45-d077-a256b36ca73a"
      },
      "source": [
        "!pip install wandb"
      ],
      "execution_count": 1,
      "outputs": [
        {
          "output_type": "stream",
          "name": "stdout",
          "text": [
            "Collecting wandb\n",
            "  Downloading wandb-0.12.2-py2.py3-none-any.whl (1.7 MB)\n",
            "\u001b[K     |████████████████████████████████| 1.7 MB 5.1 MB/s \n",
            "\u001b[?25hCollecting shortuuid>=0.5.0\n",
            "  Downloading shortuuid-1.0.1-py3-none-any.whl (7.5 kB)\n",
            "Collecting GitPython>=1.0.0\n",
            "  Downloading GitPython-3.1.24-py3-none-any.whl (180 kB)\n",
            "\u001b[K     |████████████████████████████████| 180 kB 57.2 MB/s \n",
            "\u001b[?25hRequirement already satisfied: protobuf>=3.12.0 in /usr/local/lib/python3.7/dist-packages (from wandb) (3.17.3)\n",
            "Collecting docker-pycreds>=0.4.0\n",
            "  Downloading docker_pycreds-0.4.0-py2.py3-none-any.whl (9.0 kB)\n",
            "Requirement already satisfied: Click!=8.0.0,>=7.0 in /usr/local/lib/python3.7/dist-packages (from wandb) (7.1.2)\n",
            "Collecting sentry-sdk>=1.0.0\n",
            "  Downloading sentry_sdk-1.4.1-py2.py3-none-any.whl (139 kB)\n",
            "\u001b[K     |████████████████████████████████| 139 kB 53.3 MB/s \n",
            "\u001b[?25hRequirement already satisfied: requests<3,>=2.0.0 in /usr/local/lib/python3.7/dist-packages (from wandb) (2.23.0)\n",
            "Requirement already satisfied: promise<3,>=2.0 in /usr/local/lib/python3.7/dist-packages (from wandb) (2.3)\n",
            "Collecting subprocess32>=3.5.3\n",
            "  Downloading subprocess32-3.5.4.tar.gz (97 kB)\n",
            "\u001b[K     |████████████████████████████████| 97 kB 6.9 MB/s \n",
            "\u001b[?25hRequirement already satisfied: python-dateutil>=2.6.1 in /usr/local/lib/python3.7/dist-packages (from wandb) (2.8.2)\n",
            "Collecting configparser>=3.8.1\n",
            "  Downloading configparser-5.0.2-py3-none-any.whl (19 kB)\n",
            "Requirement already satisfied: PyYAML in /usr/local/lib/python3.7/dist-packages (from wandb) (3.13)\n",
            "Collecting pathtools\n",
            "  Downloading pathtools-0.1.2.tar.gz (11 kB)\n",
            "Requirement already satisfied: six>=1.13.0 in /usr/local/lib/python3.7/dist-packages (from wandb) (1.15.0)\n",
            "Requirement already satisfied: psutil>=5.0.0 in /usr/local/lib/python3.7/dist-packages (from wandb) (5.4.8)\n",
            "Collecting yaspin>=1.0.0\n",
            "  Downloading yaspin-2.1.0-py3-none-any.whl (18 kB)\n",
            "Requirement already satisfied: typing-extensions>=3.7.4.3 in /usr/local/lib/python3.7/dist-packages (from GitPython>=1.0.0->wandb) (3.7.4.3)\n",
            "Collecting gitdb<5,>=4.0.1\n",
            "  Downloading gitdb-4.0.7-py3-none-any.whl (63 kB)\n",
            "\u001b[K     |████████████████████████████████| 63 kB 1.9 MB/s \n",
            "\u001b[?25hCollecting smmap<5,>=3.0.1\n",
            "  Downloading smmap-4.0.0-py2.py3-none-any.whl (24 kB)\n",
            "Requirement already satisfied: chardet<4,>=3.0.2 in /usr/local/lib/python3.7/dist-packages (from requests<3,>=2.0.0->wandb) (3.0.4)\n",
            "Requirement already satisfied: idna<3,>=2.5 in /usr/local/lib/python3.7/dist-packages (from requests<3,>=2.0.0->wandb) (2.10)\n",
            "Requirement already satisfied: certifi>=2017.4.17 in /usr/local/lib/python3.7/dist-packages (from requests<3,>=2.0.0->wandb) (2021.5.30)\n",
            "Requirement already satisfied: urllib3!=1.25.0,!=1.25.1,<1.26,>=1.21.1 in /usr/local/lib/python3.7/dist-packages (from requests<3,>=2.0.0->wandb) (1.24.3)\n",
            "Requirement already satisfied: termcolor<2.0.0,>=1.1.0 in /usr/local/lib/python3.7/dist-packages (from yaspin>=1.0.0->wandb) (1.1.0)\n",
            "Building wheels for collected packages: subprocess32, pathtools\n",
            "  Building wheel for subprocess32 (setup.py) ... \u001b[?25l\u001b[?25hdone\n",
            "  Created wheel for subprocess32: filename=subprocess32-3.5.4-py3-none-any.whl size=6502 sha256=167b91171cf12626c9d71ce9dcd7b91f2bc5f7915bce0ca7c19d95f2989f7044\n",
            "  Stored in directory: /root/.cache/pip/wheels/50/ca/fa/8fca8d246e64f19488d07567547ddec8eb084e8c0d7a59226a\n",
            "  Building wheel for pathtools (setup.py) ... \u001b[?25l\u001b[?25hdone\n",
            "  Created wheel for pathtools: filename=pathtools-0.1.2-py3-none-any.whl size=8807 sha256=bc254ba7ba06ca4bced7dc24f1ee1de6ba8fd1234086949cf5187f9ebcfe3b39\n",
            "  Stored in directory: /root/.cache/pip/wheels/3e/31/09/fa59cef12cdcfecc627b3d24273699f390e71828921b2cbba2\n",
            "Successfully built subprocess32 pathtools\n",
            "Installing collected packages: smmap, gitdb, yaspin, subprocess32, shortuuid, sentry-sdk, pathtools, GitPython, docker-pycreds, configparser, wandb\n",
            "Successfully installed GitPython-3.1.24 configparser-5.0.2 docker-pycreds-0.4.0 gitdb-4.0.7 pathtools-0.1.2 sentry-sdk-1.4.1 shortuuid-1.0.1 smmap-4.0.0 subprocess32-3.5.4 wandb-0.12.2 yaspin-2.1.0\n"
          ]
        }
      ]
    },
    {
      "cell_type": "code",
      "metadata": {
        "colab": {
          "base_uri": "https://localhost:8080/",
          "height": 69
        },
        "id": "vPa0KI-VekyH",
        "outputId": "ab66005a-495d-4f7b-bf03-dfe49ced1cc0"
      },
      "source": [
        "import wandb\n",
        "wandb.login()"
      ],
      "execution_count": 2,
      "outputs": [
        {
          "output_type": "display_data",
          "data": {
            "application/javascript": [
              "\n",
              "        window._wandbApiKey = new Promise((resolve, reject) => {\n",
              "            function loadScript(url) {\n",
              "            return new Promise(function(resolve, reject) {\n",
              "                let newScript = document.createElement(\"script\");\n",
              "                newScript.onerror = reject;\n",
              "                newScript.onload = resolve;\n",
              "                document.body.appendChild(newScript);\n",
              "                newScript.src = url;\n",
              "            });\n",
              "            }\n",
              "            loadScript(\"https://cdn.jsdelivr.net/npm/postmate/build/postmate.min.js\").then(() => {\n",
              "            const iframe = document.createElement('iframe')\n",
              "            iframe.style.cssText = \"width:0;height:0;border:none\"\n",
              "            document.body.appendChild(iframe)\n",
              "            const handshake = new Postmate({\n",
              "                container: iframe,\n",
              "                url: 'https://wandb.ai/authorize'\n",
              "            });\n",
              "            const timeout = setTimeout(() => reject(\"Couldn't auto authenticate\"), 5000)\n",
              "            handshake.then(function(child) {\n",
              "                child.on('authorize', data => {\n",
              "                    clearTimeout(timeout)\n",
              "                    resolve(data)\n",
              "                });\n",
              "            });\n",
              "            })\n",
              "        });\n",
              "    "
            ],
            "text/plain": [
              "<IPython.core.display.Javascript object>"
            ]
          },
          "metadata": {}
        },
        {
          "output_type": "stream",
          "name": "stderr",
          "text": [
            "\u001b[34m\u001b[1mwandb\u001b[0m: Appending key for api.wandb.ai to your netrc file: /root/.netrc\n"
          ]
        },
        {
          "output_type": "execute_result",
          "data": {
            "text/plain": [
              "True"
            ]
          },
          "metadata": {},
          "execution_count": 2
        }
      ]
    },
    {
      "cell_type": "code",
      "metadata": {
        "colab": {
          "base_uri": "https://localhost:8080/",
          "height": 138
        },
        "id": "A55yXqySe0Eo",
        "outputId": "ca754923-fd97-47b0-e2ad-1e9e2ee5460d"
      },
      "source": [
        "wandb.init(project='pythoncollaborative',\n",
        "           entity='team-stars-project',\n",
        "           save_code= True,name=\"Collaborative_Keras\",\n",
        "           config={\"architecture\":\"Keras\",\n",
        "           \"dataset\":\"Datafiniti Amazon Consumer Reviews\"})\n",
        "\n",
        "# 2. Save model inputs and hyperparameters\n",
        "config = wandb.config\n",
        "config.learning_rate = 0.01"
      ],
      "execution_count": 3,
      "outputs": [
        {
          "output_type": "stream",
          "name": "stderr",
          "text": [
            "\u001b[34m\u001b[1mwandb\u001b[0m: Currently logged in as: \u001b[33mjack-analyst\u001b[0m (use `wandb login --relogin` to force relogin)\n"
          ]
        },
        {
          "output_type": "display_data",
          "data": {
            "text/html": [
              "\n",
              "                Tracking run with wandb version 0.12.2<br/>\n",
              "                Syncing run <strong style=\"color:#cdcd00\">Collaborative_Keras</strong> to <a href=\"https://wandb.ai\" target=\"_blank\">Weights & Biases</a> <a href=\"https://docs.wandb.com/integrations/jupyter.html\" target=\"_blank\">(Documentation)</a>.<br/>\n",
              "                Project page: <a href=\"https://wandb.ai/team-stars-project/pythoncollaborative\" target=\"_blank\">https://wandb.ai/team-stars-project/pythoncollaborative</a><br/>\n",
              "                Run page: <a href=\"https://wandb.ai/team-stars-project/pythoncollaborative/runs/1yat1qgp\" target=\"_blank\">https://wandb.ai/team-stars-project/pythoncollaborative/runs/1yat1qgp</a><br/>\n",
              "                Run data is saved locally in <code>/content/wandb/run-20210927_051149-1yat1qgp</code><br/><br/>\n",
              "            "
            ],
            "text/plain": [
              "<IPython.core.display.HTML object>"
            ]
          },
          "metadata": {}
        }
      ]
    },
    {
      "cell_type": "code",
      "metadata": {
        "collapsed": true,
        "id": "9QuFU98-PJSG"
      },
      "source": [
        "import pandas as pd\n",
        "import numpy as np\n",
        "import matplotlib.pyplot as plt\n",
        "import warnings\n",
        "warnings.filterwarnings('ignore')\n",
        "\n",
        "%matplotlib inline"
      ],
      "execution_count": 4,
      "outputs": []
    },
    {
      "cell_type": "code",
      "metadata": {
        "collapsed": true,
        "id": "1esdN-xOPJSH",
        "colab": {
          "base_uri": "https://localhost:8080/"
        },
        "outputId": "6628f813-6209-47a5-a437-ccd27e93d4e4"
      },
      "source": [
        "from google.colab import drive\n",
        "drive.mount('/content/drive')"
      ],
      "execution_count": 5,
      "outputs": [
        {
          "output_type": "stream",
          "name": "stdout",
          "text": [
            "Mounted at /content/drive\n"
          ]
        }
      ]
    },
    {
      "cell_type": "code",
      "metadata": {
        "id": "GovR5sBSPJSI",
        "colab": {
          "base_uri": "https://localhost:8080/",
          "height": 573
        },
        "outputId": "fec88140-d0f0-4d91-bbef-2c3063097fb4"
      },
      "source": [
        "#load the datasets\n",
        "df = pd.read_csv(\"/content/drive/Shareddrives/Team Stars/Data/df_clean.csv\",index_col=0)\n",
        "df.head()"
      ],
      "execution_count": 6,
      "outputs": [
        {
          "output_type": "execute_result",
          "data": {
            "text/html": [
              "<div>\n",
              "<style scoped>\n",
              "    .dataframe tbody tr th:only-of-type {\n",
              "        vertical-align: middle;\n",
              "    }\n",
              "\n",
              "    .dataframe tbody tr th {\n",
              "        vertical-align: top;\n",
              "    }\n",
              "\n",
              "    .dataframe thead th {\n",
              "        text-align: right;\n",
              "    }\n",
              "</style>\n",
              "<table border=\"1\" class=\"dataframe\">\n",
              "  <thead>\n",
              "    <tr style=\"text-align: right;\">\n",
              "      <th></th>\n",
              "      <th>id</th>\n",
              "      <th>name</th>\n",
              "      <th>brand</th>\n",
              "      <th>primarycategories</th>\n",
              "      <th>manufacturernumber</th>\n",
              "      <th>reviews_dorecommend</th>\n",
              "      <th>reviews_numhelpful</th>\n",
              "      <th>reviews_rating</th>\n",
              "      <th>reviews_text</th>\n",
              "      <th>reviews_title</th>\n",
              "      <th>reviews_username</th>\n",
              "    </tr>\n",
              "  </thead>\n",
              "  <tbody>\n",
              "    <tr>\n",
              "      <th>0</th>\n",
              "      <td>AVpgNzjwLJeJML43Kpxn</td>\n",
              "      <td>AmazonBasics AAA Performance Alkaline Batterie...</td>\n",
              "      <td>Amazonbasics</td>\n",
              "      <td>Health &amp; Beauty</td>\n",
              "      <td>HL-002619</td>\n",
              "      <td>True</td>\n",
              "      <td>1.0</td>\n",
              "      <td>3</td>\n",
              "      <td>I order 3 of them and one of the item is bad q...</td>\n",
              "      <td>... 3 of them and one of the item is bad quali...</td>\n",
              "      <td>Byger yang</td>\n",
              "    </tr>\n",
              "    <tr>\n",
              "      <th>1</th>\n",
              "      <td>AVpgNzjwLJeJML43Kpxn</td>\n",
              "      <td>AmazonBasics AAA Performance Alkaline Batterie...</td>\n",
              "      <td>Amazonbasics</td>\n",
              "      <td>Health &amp; Beauty</td>\n",
              "      <td>HL-002619</td>\n",
              "      <td>True</td>\n",
              "      <td>1.0</td>\n",
              "      <td>4</td>\n",
              "      <td>Bulk is always the less expensive way to go fo...</td>\n",
              "      <td>... always the less expensive way to go for pr...</td>\n",
              "      <td>ByMG</td>\n",
              "    </tr>\n",
              "    <tr>\n",
              "      <th>2</th>\n",
              "      <td>AVpgNzjwLJeJML43Kpxn</td>\n",
              "      <td>AmazonBasics AAA Performance Alkaline Batterie...</td>\n",
              "      <td>Amazonbasics</td>\n",
              "      <td>Health &amp; Beauty</td>\n",
              "      <td>HL-002619</td>\n",
              "      <td>True</td>\n",
              "      <td>1.0</td>\n",
              "      <td>5</td>\n",
              "      <td>Well they are not Duracell but for the price i...</td>\n",
              "      <td>... are not Duracell but for the price i am ha...</td>\n",
              "      <td>BySharon Lambert</td>\n",
              "    </tr>\n",
              "    <tr>\n",
              "      <th>3</th>\n",
              "      <td>AVpgNzjwLJeJML43Kpxn</td>\n",
              "      <td>AmazonBasics AAA Performance Alkaline Batterie...</td>\n",
              "      <td>Amazonbasics</td>\n",
              "      <td>Health &amp; Beauty</td>\n",
              "      <td>HL-002619</td>\n",
              "      <td>True</td>\n",
              "      <td>1.0</td>\n",
              "      <td>5</td>\n",
              "      <td>Seem to work as well as name brand batteries a...</td>\n",
              "      <td>... as well as name brand batteries at a much ...</td>\n",
              "      <td>Bymark sexson</td>\n",
              "    </tr>\n",
              "    <tr>\n",
              "      <th>4</th>\n",
              "      <td>AVpgNzjwLJeJML43Kpxn</td>\n",
              "      <td>AmazonBasics AAA Performance Alkaline Batterie...</td>\n",
              "      <td>Amazonbasics</td>\n",
              "      <td>Health &amp; Beauty</td>\n",
              "      <td>HL-002619</td>\n",
              "      <td>True</td>\n",
              "      <td>1.0</td>\n",
              "      <td>5</td>\n",
              "      <td>These batteries are very long lasting the pric...</td>\n",
              "      <td>... batteries are very long lasting the price ...</td>\n",
              "      <td>Bylinda</td>\n",
              "    </tr>\n",
              "  </tbody>\n",
              "</table>\n",
              "</div>"
            ],
            "text/plain": [
              "                     id  ...  reviews_username\n",
              "0  AVpgNzjwLJeJML43Kpxn  ...        Byger yang\n",
              "1  AVpgNzjwLJeJML43Kpxn  ...              ByMG\n",
              "2  AVpgNzjwLJeJML43Kpxn  ...  BySharon Lambert\n",
              "3  AVpgNzjwLJeJML43Kpxn  ...     Bymark sexson\n",
              "4  AVpgNzjwLJeJML43Kpxn  ...           Bylinda\n",
              "\n",
              "[5 rows x 11 columns]"
            ]
          },
          "metadata": {},
          "execution_count": 6
        }
      ]
    },
    {
      "cell_type": "code",
      "metadata": {
        "colab": {
          "base_uri": "https://localhost:8080/",
          "height": 206
        },
        "id": "PIHPFHGePmg4",
        "outputId": "6f4b4df3-ea86-4237-823e-aabadc24fed2"
      },
      "source": [
        "from sklearn.preprocessing import LabelEncoder\n",
        "le=LabelEncoder()\n",
        "dataset=df[['id','reviews_username','reviews_rating']]\n",
        "dataset.id=le.fit_transform(dataset.id)\n",
        "dataset.reviews_username=le.fit_transform(dataset.reviews_username)\n",
        "dataset=dataset.rename(columns={'reviews_username':'user_id','id':'item_id','reviews_rating':'rating'})\n",
        "dataset.head()"
      ],
      "execution_count": 7,
      "outputs": [
        {
          "output_type": "execute_result",
          "data": {
            "text/html": [
              "<div>\n",
              "<style scoped>\n",
              "    .dataframe tbody tr th:only-of-type {\n",
              "        vertical-align: middle;\n",
              "    }\n",
              "\n",
              "    .dataframe tbody tr th {\n",
              "        vertical-align: top;\n",
              "    }\n",
              "\n",
              "    .dataframe thead th {\n",
              "        text-align: right;\n",
              "    }\n",
              "</style>\n",
              "<table border=\"1\" class=\"dataframe\">\n",
              "  <thead>\n",
              "    <tr style=\"text-align: right;\">\n",
              "      <th></th>\n",
              "      <th>item_id</th>\n",
              "      <th>user_id</th>\n",
              "      <th>rating</th>\n",
              "    </tr>\n",
              "  </thead>\n",
              "  <tbody>\n",
              "    <tr>\n",
              "      <th>0</th>\n",
              "      <td>21</td>\n",
              "      <td>8417</td>\n",
              "      <td>3</td>\n",
              "    </tr>\n",
              "    <tr>\n",
              "      <th>1</th>\n",
              "      <td>21</td>\n",
              "      <td>5201</td>\n",
              "      <td>4</td>\n",
              "    </tr>\n",
              "    <tr>\n",
              "      <th>2</th>\n",
              "      <td>21</td>\n",
              "      <td>6994</td>\n",
              "      <td>5</td>\n",
              "    </tr>\n",
              "    <tr>\n",
              "      <th>3</th>\n",
              "      <td>21</td>\n",
              "      <td>8769</td>\n",
              "      <td>5</td>\n",
              "    </tr>\n",
              "    <tr>\n",
              "      <th>4</th>\n",
              "      <td>21</td>\n",
              "      <td>8713</td>\n",
              "      <td>5</td>\n",
              "    </tr>\n",
              "  </tbody>\n",
              "</table>\n",
              "</div>"
            ],
            "text/plain": [
              "   item_id  user_id  rating\n",
              "0       21     8417       3\n",
              "1       21     5201       4\n",
              "2       21     6994       5\n",
              "3       21     8769       5\n",
              "4       21     8713       5"
            ]
          },
          "metadata": {},
          "execution_count": 7
        }
      ]
    },
    {
      "cell_type": "markdown",
      "metadata": {
        "id": "7xT45ya6PJSJ"
      },
      "source": [
        "So, each record (row) shows the rating for a user, item (movie) pair. It should be noted that I use  item and movie interchangeably in this post."
      ]
    },
    {
      "cell_type": "code",
      "metadata": {
        "id": "g_yMafELPJSK",
        "colab": {
          "base_uri": "https://localhost:8080/"
        },
        "outputId": "26e756d0-85af-46ae-a558-b3d064b30901"
      },
      "source": [
        "len(dataset.user_id.unique()), len(dataset.item_id.unique())"
      ],
      "execution_count": 8,
      "outputs": [
        {
          "output_type": "execute_result",
          "data": {
            "text/plain": [
              "(16269, 65)"
            ]
          },
          "metadata": {},
          "execution_count": 8
        }
      ]
    },
    {
      "cell_type": "markdown",
      "metadata": {
        "id": "RmHUZ3jNPJSL"
      },
      "source": [
        "We assign a unique number between (0, #users) to each user and do the same for movies."
      ]
    },
    {
      "cell_type": "code",
      "metadata": {
        "collapsed": true,
        "id": "scD-ChhgPJSM"
      },
      "source": [
        "dataset.user_id = dataset.user_id.astype('category').cat.codes.values\n",
        "dataset.item_id = dataset.item_id.astype('category').cat.codes.values"
      ],
      "execution_count": 9,
      "outputs": []
    },
    {
      "cell_type": "code",
      "metadata": {
        "id": "LwaUug4bPJSN",
        "colab": {
          "base_uri": "https://localhost:8080/",
          "height": 206
        },
        "outputId": "2e3b7bb9-b9ba-44ca-917b-26e8b183fbe9"
      },
      "source": [
        "dataset.head()"
      ],
      "execution_count": 10,
      "outputs": [
        {
          "output_type": "execute_result",
          "data": {
            "text/html": [
              "<div>\n",
              "<style scoped>\n",
              "    .dataframe tbody tr th:only-of-type {\n",
              "        vertical-align: middle;\n",
              "    }\n",
              "\n",
              "    .dataframe tbody tr th {\n",
              "        vertical-align: top;\n",
              "    }\n",
              "\n",
              "    .dataframe thead th {\n",
              "        text-align: right;\n",
              "    }\n",
              "</style>\n",
              "<table border=\"1\" class=\"dataframe\">\n",
              "  <thead>\n",
              "    <tr style=\"text-align: right;\">\n",
              "      <th></th>\n",
              "      <th>item_id</th>\n",
              "      <th>user_id</th>\n",
              "      <th>rating</th>\n",
              "    </tr>\n",
              "  </thead>\n",
              "  <tbody>\n",
              "    <tr>\n",
              "      <th>0</th>\n",
              "      <td>21</td>\n",
              "      <td>8417</td>\n",
              "      <td>3</td>\n",
              "    </tr>\n",
              "    <tr>\n",
              "      <th>1</th>\n",
              "      <td>21</td>\n",
              "      <td>5201</td>\n",
              "      <td>4</td>\n",
              "    </tr>\n",
              "    <tr>\n",
              "      <th>2</th>\n",
              "      <td>21</td>\n",
              "      <td>6994</td>\n",
              "      <td>5</td>\n",
              "    </tr>\n",
              "    <tr>\n",
              "      <th>3</th>\n",
              "      <td>21</td>\n",
              "      <td>8769</td>\n",
              "      <td>5</td>\n",
              "    </tr>\n",
              "    <tr>\n",
              "      <th>4</th>\n",
              "      <td>21</td>\n",
              "      <td>8713</td>\n",
              "      <td>5</td>\n",
              "    </tr>\n",
              "  </tbody>\n",
              "</table>\n",
              "</div>"
            ],
            "text/plain": [
              "   item_id  user_id  rating\n",
              "0       21     8417       3\n",
              "1       21     5201       4\n",
              "2       21     6994       5\n",
              "3       21     8769       5\n",
              "4       21     8713       5"
            ]
          },
          "metadata": {},
          "execution_count": 10
        }
      ]
    },
    {
      "cell_type": "markdown",
      "metadata": {
        "id": "i-zYPhu-PJSN"
      },
      "source": [
        "### Train test split\n",
        "\n",
        "We'll now split our dataset of product ratings into train and test. Given the train set, we'd like to accurately estimate the ratings in the test set."
      ]
    },
    {
      "cell_type": "code",
      "metadata": {
        "collapsed": true,
        "id": "FwyIFdmQPJSO"
      },
      "source": [
        "from sklearn.model_selection import train_test_split\n",
        "train, test = train_test_split(dataset, test_size=0.2)"
      ],
      "execution_count": 11,
      "outputs": []
    },
    {
      "cell_type": "code",
      "metadata": {
        "id": "VT-iq4xEPJSO",
        "colab": {
          "base_uri": "https://localhost:8080/",
          "height": 206
        },
        "outputId": "a6c6d61e-a332-4b47-fa1f-105b1a12771a"
      },
      "source": [
        "train.head()"
      ],
      "execution_count": 12,
      "outputs": [
        {
          "output_type": "execute_result",
          "data": {
            "text/html": [
              "<div>\n",
              "<style scoped>\n",
              "    .dataframe tbody tr th:only-of-type {\n",
              "        vertical-align: middle;\n",
              "    }\n",
              "\n",
              "    .dataframe tbody tr th {\n",
              "        vertical-align: top;\n",
              "    }\n",
              "\n",
              "    .dataframe thead th {\n",
              "        text-align: right;\n",
              "    }\n",
              "</style>\n",
              "<table border=\"1\" class=\"dataframe\">\n",
              "  <thead>\n",
              "    <tr style=\"text-align: right;\">\n",
              "      <th></th>\n",
              "      <th>item_id</th>\n",
              "      <th>user_id</th>\n",
              "      <th>rating</th>\n",
              "    </tr>\n",
              "  </thead>\n",
              "  <tbody>\n",
              "    <tr>\n",
              "      <th>13922</th>\n",
              "      <td>34</td>\n",
              "      <td>11047</td>\n",
              "      <td>5</td>\n",
              "    </tr>\n",
              "    <tr>\n",
              "      <th>7762</th>\n",
              "      <td>21</td>\n",
              "      <td>5221</td>\n",
              "      <td>2</td>\n",
              "    </tr>\n",
              "    <tr>\n",
              "      <th>8144</th>\n",
              "      <td>21</td>\n",
              "      <td>9075</td>\n",
              "      <td>5</td>\n",
              "    </tr>\n",
              "    <tr>\n",
              "      <th>3169</th>\n",
              "      <td>21</td>\n",
              "      <td>3912</td>\n",
              "      <td>5</td>\n",
              "    </tr>\n",
              "    <tr>\n",
              "      <th>18654</th>\n",
              "      <td>22</td>\n",
              "      <td>11544</td>\n",
              "      <td>5</td>\n",
              "    </tr>\n",
              "  </tbody>\n",
              "</table>\n",
              "</div>"
            ],
            "text/plain": [
              "       item_id  user_id  rating\n",
              "13922       34    11047       5\n",
              "7762        21     5221       2\n",
              "8144        21     9075       5\n",
              "3169        21     3912       5\n",
              "18654       22    11544       5"
            ]
          },
          "metadata": {},
          "execution_count": 12
        }
      ]
    },
    {
      "cell_type": "code",
      "metadata": {
        "id": "QGHFsWoQPJSP",
        "colab": {
          "base_uri": "https://localhost:8080/",
          "height": 206
        },
        "outputId": "d5ca46a5-65b4-426a-e4a3-9fb11ddd5b96"
      },
      "source": [
        "test.head()"
      ],
      "execution_count": 13,
      "outputs": [
        {
          "output_type": "execute_result",
          "data": {
            "text/html": [
              "<div>\n",
              "<style scoped>\n",
              "    .dataframe tbody tr th:only-of-type {\n",
              "        vertical-align: middle;\n",
              "    }\n",
              "\n",
              "    .dataframe tbody tr th {\n",
              "        vertical-align: top;\n",
              "    }\n",
              "\n",
              "    .dataframe thead th {\n",
              "        text-align: right;\n",
              "    }\n",
              "</style>\n",
              "<table border=\"1\" class=\"dataframe\">\n",
              "  <thead>\n",
              "    <tr style=\"text-align: right;\">\n",
              "      <th></th>\n",
              "      <th>item_id</th>\n",
              "      <th>user_id</th>\n",
              "      <th>rating</th>\n",
              "    </tr>\n",
              "  </thead>\n",
              "  <tbody>\n",
              "    <tr>\n",
              "      <th>10012</th>\n",
              "      <td>7</td>\n",
              "      <td>997</td>\n",
              "      <td>5</td>\n",
              "    </tr>\n",
              "    <tr>\n",
              "      <th>22348</th>\n",
              "      <td>32</td>\n",
              "      <td>14476</td>\n",
              "      <td>5</td>\n",
              "    </tr>\n",
              "    <tr>\n",
              "      <th>16519</th>\n",
              "      <td>34</td>\n",
              "      <td>13445</td>\n",
              "      <td>4</td>\n",
              "    </tr>\n",
              "    <tr>\n",
              "      <th>10554</th>\n",
              "      <td>7</td>\n",
              "      <td>1151</td>\n",
              "      <td>5</td>\n",
              "    </tr>\n",
              "    <tr>\n",
              "      <th>18475</th>\n",
              "      <td>22</td>\n",
              "      <td>9505</td>\n",
              "      <td>5</td>\n",
              "    </tr>\n",
              "  </tbody>\n",
              "</table>\n",
              "</div>"
            ],
            "text/plain": [
              "       item_id  user_id  rating\n",
              "10012        7      997       5\n",
              "22348       32    14476       5\n",
              "16519       34    13445       4\n",
              "10554        7     1151       5\n",
              "18475       22     9505       5"
            ]
          },
          "metadata": {},
          "execution_count": 13
        }
      ]
    },
    {
      "cell_type": "markdown",
      "metadata": {
        "id": "JUKQU14hPJSQ"
      },
      "source": [
        "### Matrix factorisation\n",
        "\n",
        "One popular recommender systems approach is called Matrix Factorisation. It works on the principle that we can learn a low-dimensional representation (embedding) of user and movie. For example, for each movie, we can have how much action it has, how long it is, and so on. For each user, we can encode how much they like action, or how much they like long movies, etc. Thus, we can combine the user and the movie embeddings to estimate the ratings on unseen movies. This approach can also be viewed as: given a matrix (A [M X N]) containing users and movies, we want to estimate low dimensional matrices (W [M X k] and H [M X k]), such that: $A \\approx W.H^T$"
      ]
    },
    {
      "cell_type": "markdown",
      "metadata": {
        "id": "1O5A6TaYPJSQ"
      },
      "source": [
        "### Matrix factorisation in Keras\n",
        "\n",
        "We'll now write some code to solve the recommendation problem by matrix factorisation in Keras. We're trying to learn two low-dimensional embeddings of users and items.\n",
        "\n",
        "\n"
      ]
    },
    {
      "cell_type": "code",
      "metadata": {
        "id": "upqVRB5PPJSR"
      },
      "source": [
        "import keras\n",
        "from IPython.display import SVG\n",
        "from keras import optimizers\n",
        "from keras.utils.vis_utils import model_to_dot\n",
        "n_users, n_product = len(dataset.user_id.unique()), len(dataset.item_id.unique())\n",
        "n_latent_factors = 3"
      ],
      "execution_count": 14,
      "outputs": []
    },
    {
      "cell_type": "markdown",
      "metadata": {
        "id": "W8VbCYLVPJSR"
      },
      "source": [
        "The key thing is to learn an embedding for movies and users, and then combine them using the dot product! For estimating the rating, for each user, movie pair of interest, we'd take the dot product of the respective user and item embedding. As an example, if we have 2 dimensions in our user and item embedding, which say correspond to [how much user likes action, how much user likes long movies], and the item embedding is [how much action is in the movie, how long is the movie]. Then, we can predict for a user `u`, and movie `m` as how much `u` likes action $\\times$ how much action is there in `m` $+$ how much `u` likes long movies $\\times$ how long is `m`.\n",
        "\n",
        "Our model would optimise the emebedding such that we minimise the mean squared error on the ratings from the train set."
      ]
    },
    {
      "cell_type": "code",
      "metadata": {
        "collapsed": true,
        "id": "bJFd0J3sPJSS"
      },
      "source": [
        "product_input = keras.layers.Input(shape=[1],name='Item')\n",
        "product_embedding = keras.layers.Embedding(n_product + 1, n_latent_factors, name='product-Embedding')(product_input)\n",
        "product_vec = keras.layers.Flatten(name='Flattenproducts')(product_embedding)\n",
        "\n",
        "user_input = keras.layers.Input(shape=[1],name='User')\n",
        "user_embedding=keras.layers.Embedding(n_users + 1, n_latent_factors,name='User-Embedding')(user_input)\n",
        "user_vec = keras.layers.Flatten(name='FlattenUsers')(user_embedding)\n",
        "from keras.layers import Input, Embedding, Flatten, Dot, Dense\n",
        "from keras.models import Model\n",
        "# prod = Dot(name=\"Dot-Product\", axes=1)([product_vec, user_vec])\n",
        "# prod = keras.layers.merge([product_vec, user_vec], mode='dot',name='DotProduct')\n",
        "prod = keras.layers.merge.dot([product_vec, user_vec],axes=1,name='DotProduct')\n",
        "model = keras.Model([user_input, product_input], prod)\n",
        "model.compile('adam', 'mean_squared_error')"
      ],
      "execution_count": 15,
      "outputs": []
    },
    {
      "cell_type": "markdown",
      "metadata": {
        "id": "x9kLlYxXPJSS"
      },
      "source": [
        "Here's a visualisation of our model for a better understanding."
      ]
    },
    {
      "cell_type": "code",
      "metadata": {
        "id": "GV5IOIChPJSS",
        "colab": {
          "base_uri": "https://localhost:8080/",
          "height": 562
        },
        "outputId": "9b7872ce-6987-432a-acc1-89c8851be329"
      },
      "source": [
        "SVG(model_to_dot(model,  show_shapes=True, show_layer_names=True, rankdir='HB').create(prog='dot', format='svg'))"
      ],
      "execution_count": 16,
      "outputs": [
        {
          "output_type": "execute_result",
          "data": {
            "text/plain": [
              "<IPython.core.display.SVG object>"
            ],
            "image/svg+xml": "<svg height=\"405pt\" viewBox=\"0.00 0.00 714.00 304.00\" width=\"952pt\" xmlns=\"http://www.w3.org/2000/svg\" xmlns:xlink=\"http://www.w3.org/1999/xlink\">\n<g class=\"graph\" id=\"graph0\" transform=\"scale(1.3333 1.3333) rotate(0) translate(4 300)\">\n<title>G</title>\n<polygon fill=\"#ffffff\" points=\"-4,4 -4,-300 710,-300 710,4 -4,4\" stroke=\"transparent\"/>\n<!-- 139949329299472 -->\n<g class=\"node\" id=\"node1\">\n<title>139949329299472</title>\n<polygon fill=\"none\" points=\"50.5,-249.5 50.5,-295.5 302.5,-295.5 302.5,-249.5 50.5,-249.5\" stroke=\"#000000\"/>\n<text fill=\"#000000\" font-family=\"Times,serif\" font-size=\"14.00\" text-anchor=\"middle\" x=\"107\" y=\"-268.8\">Item: InputLayer</text>\n<polyline fill=\"none\" points=\"163.5,-249.5 163.5,-295.5 \" stroke=\"#000000\"/>\n<text fill=\"#000000\" font-family=\"Times,serif\" font-size=\"14.00\" text-anchor=\"middle\" x=\"192.5\" y=\"-280.3\">input:</text>\n<polyline fill=\"none\" points=\"163.5,-272.5 221.5,-272.5 \" stroke=\"#000000\"/>\n<text fill=\"#000000\" font-family=\"Times,serif\" font-size=\"14.00\" text-anchor=\"middle\" x=\"192.5\" y=\"-257.3\">output:</text>\n<polyline fill=\"none\" points=\"221.5,-249.5 221.5,-295.5 \" stroke=\"#000000\"/>\n<text fill=\"#000000\" font-family=\"Times,serif\" font-size=\"14.00\" text-anchor=\"middle\" x=\"262\" y=\"-280.3\">[(None, 1)]</text>\n<polyline fill=\"none\" points=\"221.5,-272.5 302.5,-272.5 \" stroke=\"#000000\"/>\n<text fill=\"#000000\" font-family=\"Times,serif\" font-size=\"14.00\" text-anchor=\"middle\" x=\"262\" y=\"-257.3\">[(None, 1)]</text>\n</g>\n<!-- 139949329741712 -->\n<g class=\"node\" id=\"node3\">\n<title>139949329741712</title>\n<polygon fill=\"none\" points=\"0,-166.5 0,-212.5 353,-212.5 353,-166.5 0,-166.5\" stroke=\"#000000\"/>\n<text fill=\"#000000\" font-family=\"Times,serif\" font-size=\"14.00\" text-anchor=\"middle\" x=\"104\" y=\"-185.8\">product-Embedding: Embedding</text>\n<polyline fill=\"none\" points=\"208,-166.5 208,-212.5 \" stroke=\"#000000\"/>\n<text fill=\"#000000\" font-family=\"Times,serif\" font-size=\"14.00\" text-anchor=\"middle\" x=\"237\" y=\"-197.3\">input:</text>\n<polyline fill=\"none\" points=\"208,-189.5 266,-189.5 \" stroke=\"#000000\"/>\n<text fill=\"#000000\" font-family=\"Times,serif\" font-size=\"14.00\" text-anchor=\"middle\" x=\"237\" y=\"-174.3\">output:</text>\n<polyline fill=\"none\" points=\"266,-166.5 266,-212.5 \" stroke=\"#000000\"/>\n<text fill=\"#000000\" font-family=\"Times,serif\" font-size=\"14.00\" text-anchor=\"middle\" x=\"309.5\" y=\"-197.3\">(None, 1)</text>\n<polyline fill=\"none\" points=\"266,-189.5 353,-189.5 \" stroke=\"#000000\"/>\n<text fill=\"#000000\" font-family=\"Times,serif\" font-size=\"14.00\" text-anchor=\"middle\" x=\"309.5\" y=\"-174.3\">(None, 1, 3)</text>\n</g>\n<!-- 139949329299472&#45;&gt;139949329741712 -->\n<g class=\"edge\" id=\"edge1\">\n<title>139949329299472-&gt;139949329741712</title>\n<path d=\"M176.5,-249.3799C176.5,-241.1745 176.5,-231.7679 176.5,-222.8786\" fill=\"none\" stroke=\"#000000\"/>\n<polygon fill=\"#000000\" points=\"180.0001,-222.784 176.5,-212.784 173.0001,-222.784 180.0001,-222.784\" stroke=\"#000000\"/>\n</g>\n<!-- 139949320622800 -->\n<g class=\"node\" id=\"node2\">\n<title>139949320622800</title>\n<polygon fill=\"none\" points=\"412,-249.5 412,-295.5 665,-295.5 665,-249.5 412,-249.5\" stroke=\"#000000\"/>\n<text fill=\"#000000\" font-family=\"Times,serif\" font-size=\"14.00\" text-anchor=\"middle\" x=\"469\" y=\"-268.8\">User: InputLayer</text>\n<polyline fill=\"none\" points=\"526,-249.5 526,-295.5 \" stroke=\"#000000\"/>\n<text fill=\"#000000\" font-family=\"Times,serif\" font-size=\"14.00\" text-anchor=\"middle\" x=\"555\" y=\"-280.3\">input:</text>\n<polyline fill=\"none\" points=\"526,-272.5 584,-272.5 \" stroke=\"#000000\"/>\n<text fill=\"#000000\" font-family=\"Times,serif\" font-size=\"14.00\" text-anchor=\"middle\" x=\"555\" y=\"-257.3\">output:</text>\n<polyline fill=\"none\" points=\"584,-249.5 584,-295.5 \" stroke=\"#000000\"/>\n<text fill=\"#000000\" font-family=\"Times,serif\" font-size=\"14.00\" text-anchor=\"middle\" x=\"624.5\" y=\"-280.3\">[(None, 1)]</text>\n<polyline fill=\"none\" points=\"584,-272.5 665,-272.5 \" stroke=\"#000000\"/>\n<text fill=\"#000000\" font-family=\"Times,serif\" font-size=\"14.00\" text-anchor=\"middle\" x=\"624.5\" y=\"-257.3\">[(None, 1)]</text>\n</g>\n<!-- 139949260332368 -->\n<g class=\"node\" id=\"node4\">\n<title>139949260332368</title>\n<polygon fill=\"none\" points=\"371,-166.5 371,-212.5 706,-212.5 706,-166.5 371,-166.5\" stroke=\"#000000\"/>\n<text fill=\"#000000\" font-family=\"Times,serif\" font-size=\"14.00\" text-anchor=\"middle\" x=\"466\" y=\"-185.8\">User-Embedding: Embedding</text>\n<polyline fill=\"none\" points=\"561,-166.5 561,-212.5 \" stroke=\"#000000\"/>\n<text fill=\"#000000\" font-family=\"Times,serif\" font-size=\"14.00\" text-anchor=\"middle\" x=\"590\" y=\"-197.3\">input:</text>\n<polyline fill=\"none\" points=\"561,-189.5 619,-189.5 \" stroke=\"#000000\"/>\n<text fill=\"#000000\" font-family=\"Times,serif\" font-size=\"14.00\" text-anchor=\"middle\" x=\"590\" y=\"-174.3\">output:</text>\n<polyline fill=\"none\" points=\"619,-166.5 619,-212.5 \" stroke=\"#000000\"/>\n<text fill=\"#000000\" font-family=\"Times,serif\" font-size=\"14.00\" text-anchor=\"middle\" x=\"662.5\" y=\"-197.3\">(None, 1)</text>\n<polyline fill=\"none\" points=\"619,-189.5 706,-189.5 \" stroke=\"#000000\"/>\n<text fill=\"#000000\" font-family=\"Times,serif\" font-size=\"14.00\" text-anchor=\"middle\" x=\"662.5\" y=\"-174.3\">(None, 1, 3)</text>\n</g>\n<!-- 139949320622800&#45;&gt;139949260332368 -->\n<g class=\"edge\" id=\"edge2\">\n<title>139949320622800-&gt;139949260332368</title>\n<path d=\"M538.5,-249.3799C538.5,-241.1745 538.5,-231.7679 538.5,-222.8786\" fill=\"none\" stroke=\"#000000\"/>\n<polygon fill=\"#000000\" points=\"542.0001,-222.784 538.5,-212.784 535.0001,-222.784 542.0001,-222.784\" stroke=\"#000000\"/>\n</g>\n<!-- 139949329338256 -->\n<g class=\"node\" id=\"node5\">\n<title>139949329338256</title>\n<polygon fill=\"none\" points=\"56,-83.5 56,-129.5 353,-129.5 353,-83.5 56,-83.5\" stroke=\"#000000\"/>\n<text fill=\"#000000\" font-family=\"Times,serif\" font-size=\"14.00\" text-anchor=\"middle\" x=\"132\" y=\"-102.8\">Flattenproducts: Flatten</text>\n<polyline fill=\"none\" points=\"208,-83.5 208,-129.5 \" stroke=\"#000000\"/>\n<text fill=\"#000000\" font-family=\"Times,serif\" font-size=\"14.00\" text-anchor=\"middle\" x=\"237\" y=\"-114.3\">input:</text>\n<polyline fill=\"none\" points=\"208,-106.5 266,-106.5 \" stroke=\"#000000\"/>\n<text fill=\"#000000\" font-family=\"Times,serif\" font-size=\"14.00\" text-anchor=\"middle\" x=\"237\" y=\"-91.3\">output:</text>\n<polyline fill=\"none\" points=\"266,-83.5 266,-129.5 \" stroke=\"#000000\"/>\n<text fill=\"#000000\" font-family=\"Times,serif\" font-size=\"14.00\" text-anchor=\"middle\" x=\"309.5\" y=\"-114.3\">(None, 1, 3)</text>\n<polyline fill=\"none\" points=\"266,-106.5 353,-106.5 \" stroke=\"#000000\"/>\n<text fill=\"#000000\" font-family=\"Times,serif\" font-size=\"14.00\" text-anchor=\"middle\" x=\"309.5\" y=\"-91.3\">(None, 3)</text>\n</g>\n<!-- 139949329741712&#45;&gt;139949329338256 -->\n<g class=\"edge\" id=\"edge3\">\n<title>139949329741712-&gt;139949329338256</title>\n<path d=\"M184.2996,-166.3799C187.1278,-157.9962 190.3791,-148.3584 193.4351,-139.2996\" fill=\"none\" stroke=\"#000000\"/>\n<polygon fill=\"#000000\" points=\"196.765,-140.3782 196.6452,-129.784 190.1322,-138.1406 196.765,-140.3782\" stroke=\"#000000\"/>\n</g>\n<!-- 139949260371728 -->\n<g class=\"node\" id=\"node6\">\n<title>139949260371728</title>\n<polygon fill=\"none\" points=\"385,-83.5 385,-129.5 664,-129.5 664,-83.5 385,-83.5\" stroke=\"#000000\"/>\n<text fill=\"#000000\" font-family=\"Times,serif\" font-size=\"14.00\" text-anchor=\"middle\" x=\"452\" y=\"-102.8\">FlattenUsers: Flatten</text>\n<polyline fill=\"none\" points=\"519,-83.5 519,-129.5 \" stroke=\"#000000\"/>\n<text fill=\"#000000\" font-family=\"Times,serif\" font-size=\"14.00\" text-anchor=\"middle\" x=\"548\" y=\"-114.3\">input:</text>\n<polyline fill=\"none\" points=\"519,-106.5 577,-106.5 \" stroke=\"#000000\"/>\n<text fill=\"#000000\" font-family=\"Times,serif\" font-size=\"14.00\" text-anchor=\"middle\" x=\"548\" y=\"-91.3\">output:</text>\n<polyline fill=\"none\" points=\"577,-83.5 577,-129.5 \" stroke=\"#000000\"/>\n<text fill=\"#000000\" font-family=\"Times,serif\" font-size=\"14.00\" text-anchor=\"middle\" x=\"620.5\" y=\"-114.3\">(None, 1, 3)</text>\n<polyline fill=\"none\" points=\"577,-106.5 664,-106.5 \" stroke=\"#000000\"/>\n<text fill=\"#000000\" font-family=\"Times,serif\" font-size=\"14.00\" text-anchor=\"middle\" x=\"620.5\" y=\"-91.3\">(None, 3)</text>\n</g>\n<!-- 139949260332368&#45;&gt;139949260371728 -->\n<g class=\"edge\" id=\"edge4\">\n<title>139949260332368-&gt;139949260371728</title>\n<path d=\"M534.6002,-166.3799C533.2162,-158.1745 531.6295,-148.7679 530.1301,-139.8786\" fill=\"none\" stroke=\"#000000\"/>\n<polygon fill=\"#000000\" points=\"533.542,-139.0625 528.4274,-129.784 526.6395,-140.2269 533.542,-139.0625\" stroke=\"#000000\"/>\n</g>\n<!-- 139949260370960 -->\n<g class=\"node\" id=\"node7\">\n<title>139949260370960</title>\n<polygon fill=\"none\" points=\"200,-.5 200,-46.5 515,-46.5 515,-.5 200,-.5\" stroke=\"#000000\"/>\n<text fill=\"#000000\" font-family=\"Times,serif\" font-size=\"14.00\" text-anchor=\"middle\" x=\"256.5\" y=\"-19.8\">DotProduct: Dot</text>\n<polyline fill=\"none\" points=\"313,-.5 313,-46.5 \" stroke=\"#000000\"/>\n<text fill=\"#000000\" font-family=\"Times,serif\" font-size=\"14.00\" text-anchor=\"middle\" x=\"342\" y=\"-31.3\">input:</text>\n<polyline fill=\"none\" points=\"313,-23.5 371,-23.5 \" stroke=\"#000000\"/>\n<text fill=\"#000000\" font-family=\"Times,serif\" font-size=\"14.00\" text-anchor=\"middle\" x=\"342\" y=\"-8.3\">output:</text>\n<polyline fill=\"none\" points=\"371,-.5 371,-46.5 \" stroke=\"#000000\"/>\n<text fill=\"#000000\" font-family=\"Times,serif\" font-size=\"14.00\" text-anchor=\"middle\" x=\"443\" y=\"-31.3\">[(None, 3), (None, 3)]</text>\n<polyline fill=\"none\" points=\"371,-23.5 515,-23.5 \" stroke=\"#000000\"/>\n<text fill=\"#000000\" font-family=\"Times,serif\" font-size=\"14.00\" text-anchor=\"middle\" x=\"443\" y=\"-8.3\">(None, 1)</text>\n</g>\n<!-- 139949329338256&#45;&gt;139949260370960 -->\n<g class=\"edge\" id=\"edge5\">\n<title>139949329338256-&gt;139949260370960</title>\n<path d=\"M247.119,-83.3799C265.3624,-73.4832 286.8273,-61.8388 305.9547,-51.4625\" fill=\"none\" stroke=\"#000000\"/>\n<polygon fill=\"#000000\" points=\"307.7235,-54.4849 314.8444,-46.6399 304.3856,-48.3319 307.7235,-54.4849\" stroke=\"#000000\"/>\n</g>\n<!-- 139949260371728&#45;&gt;139949260370960 -->\n<g class=\"edge\" id=\"edge6\">\n<title>139949260371728-&gt;139949260370960</title>\n<path d=\"M477.9812,-83.3799C457.8883,-73.3936 434.2152,-61.6279 413.1957,-51.1811\" fill=\"none\" stroke=\"#000000\"/>\n<polygon fill=\"#000000\" points=\"414.5714,-47.9564 404.0587,-46.6399 411.4559,-54.2249 414.5714,-47.9564\" stroke=\"#000000\"/>\n</g>\n</g>\n</svg>"
          },
          "metadata": {},
          "execution_count": 16
        }
      ]
    },
    {
      "cell_type": "markdown",
      "metadata": {
        "id": "Cf-6KDctPJSS"
      },
      "source": [
        "We can see that in the `Merge` layer, we take the dot product of the user and the item embeddings to obtain the rating.\n",
        "\n",
        "We can also summarise our model as follows:"
      ]
    },
    {
      "cell_type": "code",
      "metadata": {
        "id": "yNTIe9axPJST",
        "colab": {
          "base_uri": "https://localhost:8080/"
        },
        "outputId": "fc5dcb75-3248-42ed-a319-f75072e13b5c"
      },
      "source": [
        "model.summary()"
      ],
      "execution_count": 17,
      "outputs": [
        {
          "output_type": "stream",
          "name": "stdout",
          "text": [
            "Model: \"model\"\n",
            "__________________________________________________________________________________________________\n",
            "Layer (type)                    Output Shape         Param #     Connected to                     \n",
            "==================================================================================================\n",
            "Item (InputLayer)               [(None, 1)]          0                                            \n",
            "__________________________________________________________________________________________________\n",
            "User (InputLayer)               [(None, 1)]          0                                            \n",
            "__________________________________________________________________________________________________\n",
            "product-Embedding (Embedding)   (None, 1, 3)         198         Item[0][0]                       \n",
            "__________________________________________________________________________________________________\n",
            "User-Embedding (Embedding)      (None, 1, 3)         48810       User[0][0]                       \n",
            "__________________________________________________________________________________________________\n",
            "Flattenproducts (Flatten)       (None, 3)            0           product-Embedding[0][0]          \n",
            "__________________________________________________________________________________________________\n",
            "FlattenUsers (Flatten)          (None, 3)            0           User-Embedding[0][0]             \n",
            "__________________________________________________________________________________________________\n",
            "DotProduct (Dot)                (None, 1)            0           Flattenproducts[0][0]            \n",
            "                                                                 FlattenUsers[0][0]               \n",
            "==================================================================================================\n",
            "Total params: 49,008\n",
            "Trainable params: 49,008\n",
            "Non-trainable params: 0\n",
            "__________________________________________________________________________________________________\n"
          ]
        }
      ]
    },
    {
      "cell_type": "markdown",
      "metadata": {
        "id": "h4-a-BHSPJST"
      },
      "source": [
        "So, we have 7881 parameters to learn! Let's train our model now!"
      ]
    },
    {
      "cell_type": "code",
      "metadata": {
        "collapsed": true,
        "id": "i5uyJxHyPJST",
        "colab": {
          "base_uri": "https://localhost:8080/",
          "height": 1000,
          "referenced_widgets": [
            "dc28a82680ce4611893554f5420a66b6",
            "ffbd2f9b6f354077b42934a02ad9319e",
            "cbfa9018ba284b179ac2fe5a00574a6d",
            "4e8f78604b344af985e23220e10192f1",
            "a4f909bcca4242ec84a4a3338b643600",
            "b1e09502e0dc46cabf2536f849d56eee",
            "b37a3318d72544a58f622df50f3faced",
            "80766b039ccd4147b2d1ce2e6661d219"
          ]
        },
        "outputId": "f709f26f-ed6b-40f0-b693-e7deb79b7756"
      },
      "source": [
        "from wandb.keras import WandbCallback\n",
        "history = model.fit([train.user_id, train.item_id], train.rating, epochs=25,validation_split=0.1, verbose=1,callbacks=[WandbCallback()])\n",
        "wandb.finish()"
      ],
      "execution_count": 18,
      "outputs": [
        {
          "output_type": "stream",
          "name": "stdout",
          "text": [
            "Epoch 1/25\n",
            "638/638 [==============================] - 2s 2ms/step - loss: 21.1557 - val_loss: 20.8576\n",
            "Epoch 2/25\n",
            "638/638 [==============================] - 1s 2ms/step - loss: 20.2780 - val_loss: 19.9479\n",
            "Epoch 3/25\n",
            "638/638 [==============================] - 1s 2ms/step - loss: 18.5556 - val_loss: 18.7839\n",
            "Epoch 4/25\n",
            "638/638 [==============================] - 1s 2ms/step - loss: 16.1038 - val_loss: 17.2744\n",
            "Epoch 5/25\n",
            "638/638 [==============================] - 1s 2ms/step - loss: 13.1481 - val_loss: 15.6778\n",
            "Epoch 6/25\n",
            "638/638 [==============================] - 1s 2ms/step - loss: 10.1695 - val_loss: 14.2330\n",
            "Epoch 7/25\n",
            "638/638 [==============================] - 1s 2ms/step - loss: 7.5280 - val_loss: 13.0176\n",
            "Epoch 8/25\n",
            "638/638 [==============================] - 1s 2ms/step - loss: 5.3888 - val_loss: 12.0759\n",
            "Epoch 9/25\n",
            "638/638 [==============================] - 1s 2ms/step - loss: 3.7829 - val_loss: 11.3564\n",
            "Epoch 10/25\n",
            "638/638 [==============================] - 1s 2ms/step - loss: 2.6480 - val_loss: 10.8530\n",
            "Epoch 11/25\n",
            "638/638 [==============================] - 1s 2ms/step - loss: 1.8742 - val_loss: 10.5103\n",
            "Epoch 12/25\n",
            "638/638 [==============================] - 1s 2ms/step - loss: 1.3498 - val_loss: 10.2880\n",
            "Epoch 13/25\n",
            "638/638 [==============================] - 1s 2ms/step - loss: 0.9988 - val_loss: 10.1399\n",
            "Epoch 14/25\n",
            "638/638 [==============================] - 1s 2ms/step - loss: 0.7678 - val_loss: 10.0447\n",
            "Epoch 15/25\n",
            "638/638 [==============================] - 1s 2ms/step - loss: 0.6129 - val_loss: 9.9782\n",
            "Epoch 16/25\n",
            "638/638 [==============================] - 1s 2ms/step - loss: 0.5053 - val_loss: 9.9353\n",
            "Epoch 17/25\n",
            "638/638 [==============================] - 1s 2ms/step - loss: 0.4274 - val_loss: 9.9058\n",
            "Epoch 18/25\n",
            "638/638 [==============================] - 1s 2ms/step - loss: 0.3709 - val_loss: 9.8846\n",
            "Epoch 19/25\n",
            "638/638 [==============================] - 1s 2ms/step - loss: 0.3293 - val_loss: 9.8698\n",
            "Epoch 20/25\n",
            "638/638 [==============================] - 1s 2ms/step - loss: 0.2982 - val_loss: 9.8595\n",
            "Epoch 21/25\n",
            "638/638 [==============================] - 1s 2ms/step - loss: 0.2754 - val_loss: 9.8538\n",
            "Epoch 22/25\n",
            "638/638 [==============================] - 1s 2ms/step - loss: 0.2606 - val_loss: 9.8468\n",
            "Epoch 23/25\n",
            "638/638 [==============================] - 1s 2ms/step - loss: 0.2469 - val_loss: 9.8385\n",
            "Epoch 24/25\n",
            "638/638 [==============================] - 1s 2ms/step - loss: 0.2310 - val_loss: 9.8363\n",
            "Epoch 25/25\n",
            "638/638 [==============================] - 1s 2ms/step - loss: 0.2184 - val_loss: 9.8322\n"
          ]
        },
        {
          "output_type": "display_data",
          "data": {
            "text/html": [
              "<br/>Waiting for W&B process to finish, PID 141<br/>Program ended successfully."
            ],
            "text/plain": [
              "<IPython.core.display.HTML object>"
            ]
          },
          "metadata": {}
        },
        {
          "output_type": "display_data",
          "data": {
            "application/vnd.jupyter.widget-view+json": {
              "model_id": "dc28a82680ce4611893554f5420a66b6",
              "version_minor": 0,
              "version_major": 2
            },
            "text/plain": [
              "VBox(children=(Label(value=' 0.59MB of 0.59MB uploaded (0.00MB deduped)\\r'), FloatProgress(value=1.0, max=1.0)…"
            ]
          },
          "metadata": {}
        },
        {
          "output_type": "display_data",
          "data": {
            "text/html": [
              "Find user logs for this run at: <code>/content/wandb/run-20210927_051149-1yat1qgp/logs/debug.log</code>"
            ],
            "text/plain": [
              "<IPython.core.display.HTML object>"
            ]
          },
          "metadata": {}
        },
        {
          "output_type": "display_data",
          "data": {
            "text/html": [
              "Find internal logs for this run at: <code>/content/wandb/run-20210927_051149-1yat1qgp/logs/debug-internal.log</code>"
            ],
            "text/plain": [
              "<IPython.core.display.HTML object>"
            ]
          },
          "metadata": {}
        },
        {
          "output_type": "display_data",
          "data": {
            "text/html": [
              "<h3>Run summary:</h3><br/><style>\n",
              "    table.wandb td:nth-child(1) { padding: 0 10px; text-align: right }\n",
              "    </style><table class=\"wandb\">\n",
              "<tr><td>best_epoch</td><td>24</td></tr><tr><td>best_val_loss</td><td>9.83216</td></tr><tr><td>epoch</td><td>24</td></tr><tr><td>loss</td><td>0.21835</td></tr><tr><td>val_loss</td><td>9.83216</td></tr></table>"
            ],
            "text/plain": [
              "<IPython.core.display.HTML object>"
            ]
          },
          "metadata": {}
        },
        {
          "output_type": "display_data",
          "data": {
            "text/html": [
              "<h3>Run history:</h3><br/><style>\n",
              "    table.wandb td:nth-child(1) { padding: 0 10px; text-align: right }\n",
              "    </style><table class=\"wandb\">\n",
              "<tr><td>epoch</td><td>▁▁▂▂▂▂▃▃▃▄▄▄▅▅▅▅▆▆▆▇▇▇▇██</td></tr><tr><td>loss</td><td>██▇▆▅▄▃▃▂▂▂▁▁▁▁▁▁▁▁▁▁▁▁▁▁</td></tr><tr><td>val_loss</td><td>█▇▇▆▅▄▃▂▂▂▁▁▁▁▁▁▁▁▁▁▁▁▁▁▁</td></tr></table><br/>"
            ],
            "text/plain": [
              "<IPython.core.display.HTML object>"
            ]
          },
          "metadata": {}
        },
        {
          "output_type": "display_data",
          "data": {
            "text/html": [
              "Synced 5 W&B file(s), 1 media file(s), 0 artifact file(s) and 1 other file(s)"
            ],
            "text/plain": [
              "<IPython.core.display.HTML object>"
            ]
          },
          "metadata": {}
        },
        {
          "output_type": "display_data",
          "data": {
            "text/html": [
              "\n",
              "                    <br/>Synced <strong style=\"color:#cdcd00\">Collaborative_Keras</strong>: <a href=\"https://wandb.ai/team-stars-project/pythoncollaborative/runs/1yat1qgp\" target=\"_blank\">https://wandb.ai/team-stars-project/pythoncollaborative/runs/1yat1qgp</a><br/>\n",
              "                "
            ],
            "text/plain": [
              "<IPython.core.display.HTML object>"
            ]
          },
          "metadata": {}
        }
      ]
    },
    {
      "cell_type": "markdown",
      "metadata": {
        "id": "a3_KOv8kPJST"
      },
      "source": [
        "#### Train error v/s epoch number"
      ]
    },
    {
      "cell_type": "markdown",
      "metadata": {
        "id": "AvgqohmIPJST"
      },
      "source": [
        "Before we test how well our model does in the test setting, we can visualise the train loss with epoch number."
      ]
    },
    {
      "cell_type": "code",
      "metadata": {
        "id": "1hSarPkrPJST",
        "colab": {
          "base_uri": "https://localhost:8080/",
          "height": 0
        },
        "outputId": "97743902-c0a0-46a4-d603-7fa3ca136499"
      },
      "source": [
        "pd.Series(history.history['loss']).plot(logy=True)\n",
        "plt.xlabel(\"Epoch\")\n",
        "plt.ylabel(\"Train Error\")"
      ],
      "execution_count": 19,
      "outputs": [
        {
          "output_type": "execute_result",
          "data": {
            "text/plain": [
              "Text(0, 0.5, 'Train Error')"
            ]
          },
          "metadata": {},
          "execution_count": 19
        },
        {
          "output_type": "display_data",
          "data": {
            "image/png": "[encoded data removed]",
            "text/plain": [
              "<Figure size 432x288 with 1 Axes>"
            ]
          },
          "metadata": {
            "needs_background": "light"
          }
        }
      ]
    },
    {
      "cell_type": "markdown",
      "metadata": {
        "id": "29AeWPmmPJSU"
      },
      "source": [
        "#### Prediction error"
      ]
    },
    {
      "cell_type": "markdown",
      "metadata": {
        "id": "HFq7ssySPJSU"
      },
      "source": [
        "Let's now see how our model does! I'll do a small post-processing step to round off our prediction to the nearest integer. This is usually not done, and thus just a whimsical step, since the training ratings are all integers! There are better ways to encode this intger requirement (one-hot encoding!), but we won't discuss them in this post."
      ]
    },
    {
      "cell_type": "code",
      "metadata": {
        "collapsed": true,
        "id": "p7WAIpAbPJSU"
      },
      "source": [
        "y_hat = np.round(model.predict([test.user_id, test.item_id]),0)\n",
        "y_true = test.rating"
      ],
      "execution_count": 20,
      "outputs": []
    },
    {
      "cell_type": "code",
      "metadata": {
        "id": "NNXaUWvyPJSU",
        "colab": {
          "base_uri": "https://localhost:8080/"
        },
        "outputId": "1409a399-68a1-411a-e3dc-43b124c16cd0"
      },
      "source": [
        "from sklearn.metrics import mean_absolute_error\n",
        "mean_absolute_error(y_true, y_hat)"
      ],
      "execution_count": 21,
      "outputs": [
        {
          "output_type": "execute_result",
          "data": {
            "text/plain": [
              "2.211928710075878"
            ]
          },
          "metadata": {},
          "execution_count": 21
        }
      ]
    },
    {
      "cell_type": "code",
      "metadata": {
        "colab": {
          "base_uri": "https://localhost:8080/"
        },
        "id": "DgE_TKjNVycq",
        "outputId": "d72fa500-3d88-4950-f172-8abf3fa19753"
      },
      "source": [
        "from sklearn.metrics import mean_squared_error\n",
        "mean_squared_error(y_true, y_hat)"
      ],
      "execution_count": 22,
      "outputs": [
        {
          "output_type": "execute_result",
          "data": {
            "text/plain": [
              "10.073936827245456"
            ]
          },
          "metadata": {},
          "execution_count": 22
        }
      ]
    },
    {
      "cell_type": "code",
      "metadata": {
        "colab": {
          "base_uri": "https://localhost:8080/"
        },
        "id": "tSuHM9NgWIfF",
        "outputId": "ae0b4db0-d8f1-418c-deac-daf461e7e6c8"
      },
      "source": [
        "np.sqrt(mean_squared_error(y_true, y_hat))"
      ],
      "execution_count": 23,
      "outputs": [
        {
          "output_type": "execute_result",
          "data": {
            "text/plain": [
              "3.1739465696897695"
            ]
          },
          "metadata": {},
          "execution_count": 23
        }
      ]
    },
    {
      "cell_type": "markdown",
      "metadata": {
        "id": "Qju5PXc0PJSV"
      },
      "source": [
        "Not bad! We're able to get a $MAE$ of 0.69! I'm sure with a bit of parameter/hyper-parameter optimisation, we may be able to improve the results. However, I won't talk about these optimisations in this post. "
      ]
    },
    {
      "cell_type": "markdown",
      "metadata": {
        "id": "HE4rsTm5PJSV"
      },
      "source": [
        "#### Extracting the learnt embeddings"
      ]
    },
    {
      "cell_type": "markdown",
      "metadata": {
        "id": "iIlrVivvPJSV"
      },
      "source": [
        "We can extract the learnt movie and item embeddings as follows:"
      ]
    },
    {
      "cell_type": "code",
      "metadata": {
        "id": "vY4uoy7EPJSV",
        "colab": {
          "base_uri": "https://localhost:8080/",
          "height": 300
        },
        "outputId": "e2cebbbe-ee7e-4276-ad76-adcc6e176db0"
      },
      "source": [
        "product_embedding_learnt = model.get_layer(name='product-Embedding').get_weights()[0]\n",
        "pd.DataFrame(product_embedding_learnt).describe()"
      ],
      "execution_count": 24,
      "outputs": [
        {
          "output_type": "execute_result",
          "data": {
            "text/html": [
              "<div>\n",
              "<style scoped>\n",
              "    .dataframe tbody tr th:only-of-type {\n",
              "        vertical-align: middle;\n",
              "    }\n",
              "\n",
              "    .dataframe tbody tr th {\n",
              "        vertical-align: top;\n",
              "    }\n",
              "\n",
              "    .dataframe thead th {\n",
              "        text-align: right;\n",
              "    }\n",
              "</style>\n",
              "<table border=\"1\" class=\"dataframe\">\n",
              "  <thead>\n",
              "    <tr style=\"text-align: right;\">\n",
              "      <th></th>\n",
              "      <th>0</th>\n",
              "      <th>1</th>\n",
              "      <th>2</th>\n",
              "    </tr>\n",
              "  </thead>\n",
              "  <tbody>\n",
              "    <tr>\n",
              "      <th>count</th>\n",
              "      <td>66.000000</td>\n",
              "      <td>66.000000</td>\n",
              "      <td>66.000000</td>\n",
              "    </tr>\n",
              "    <tr>\n",
              "      <th>mean</th>\n",
              "      <td>-1.208102</td>\n",
              "      <td>0.451010</td>\n",
              "      <td>-1.707956</td>\n",
              "    </tr>\n",
              "    <tr>\n",
              "      <th>std</th>\n",
              "      <td>2.672604</td>\n",
              "      <td>2.926196</td>\n",
              "      <td>2.465389</td>\n",
              "    </tr>\n",
              "    <tr>\n",
              "      <th>min</th>\n",
              "      <td>-6.642188</td>\n",
              "      <td>-5.990523</td>\n",
              "      <td>-6.654827</td>\n",
              "    </tr>\n",
              "    <tr>\n",
              "      <th>25%</th>\n",
              "      <td>-3.590393</td>\n",
              "      <td>-1.912434</td>\n",
              "      <td>-4.154700</td>\n",
              "    </tr>\n",
              "    <tr>\n",
              "      <th>50%</th>\n",
              "      <td>-0.947653</td>\n",
              "      <td>0.702595</td>\n",
              "      <td>-1.089036</td>\n",
              "    </tr>\n",
              "    <tr>\n",
              "      <th>75%</th>\n",
              "      <td>0.750205</td>\n",
              "      <td>1.887218</td>\n",
              "      <td>0.572430</td>\n",
              "    </tr>\n",
              "    <tr>\n",
              "      <th>max</th>\n",
              "      <td>5.982556</td>\n",
              "      <td>5.815598</td>\n",
              "      <td>2.420029</td>\n",
              "    </tr>\n",
              "  </tbody>\n",
              "</table>\n",
              "</div>"
            ],
            "text/plain": [
              "               0          1          2\n",
              "count  66.000000  66.000000  66.000000\n",
              "mean   -1.208102   0.451010  -1.707956\n",
              "std     2.672604   2.926196   2.465389\n",
              "min    -6.642188  -5.990523  -6.654827\n",
              "25%    -3.590393  -1.912434  -4.154700\n",
              "50%    -0.947653   0.702595  -1.089036\n",
              "75%     0.750205   1.887218   0.572430\n",
              "max     5.982556   5.815598   2.420029"
            ]
          },
          "metadata": {},
          "execution_count": 24
        }
      ]
    },
    {
      "cell_type": "code",
      "metadata": {
        "id": "dRIZsVXVPJSV",
        "colab": {
          "base_uri": "https://localhost:8080/",
          "height": 300
        },
        "outputId": "c2a03532-469d-4ed9-c10a-70cd1c1abdcf"
      },
      "source": [
        "user_embedding_learnt = model.get_layer(name='User-Embedding').get_weights()[0]\n",
        "pd.DataFrame(user_embedding_learnt).describe()"
      ],
      "execution_count": 25,
      "outputs": [
        {
          "output_type": "execute_result",
          "data": {
            "text/html": [
              "<div>\n",
              "<style scoped>\n",
              "    .dataframe tbody tr th:only-of-type {\n",
              "        vertical-align: middle;\n",
              "    }\n",
              "\n",
              "    .dataframe tbody tr th {\n",
              "        vertical-align: top;\n",
              "    }\n",
              "\n",
              "    .dataframe thead th {\n",
              "        text-align: right;\n",
              "    }\n",
              "</style>\n",
              "<table border=\"1\" class=\"dataframe\">\n",
              "  <thead>\n",
              "    <tr style=\"text-align: right;\">\n",
              "      <th></th>\n",
              "      <th>0</th>\n",
              "      <th>1</th>\n",
              "      <th>2</th>\n",
              "    </tr>\n",
              "  </thead>\n",
              "  <tbody>\n",
              "    <tr>\n",
              "      <th>count</th>\n",
              "      <td>16270.000000</td>\n",
              "      <td>16270.000000</td>\n",
              "      <td>16270.000000</td>\n",
              "    </tr>\n",
              "    <tr>\n",
              "      <th>mean</th>\n",
              "      <td>-0.002926</td>\n",
              "      <td>-0.037676</td>\n",
              "      <td>-0.219458</td>\n",
              "    </tr>\n",
              "    <tr>\n",
              "      <th>std</th>\n",
              "      <td>0.280571</td>\n",
              "      <td>0.273728</td>\n",
              "      <td>0.183016</td>\n",
              "    </tr>\n",
              "    <tr>\n",
              "      <th>min</th>\n",
              "      <td>-1.019973</td>\n",
              "      <td>-0.661989</td>\n",
              "      <td>-1.057570</td>\n",
              "    </tr>\n",
              "    <tr>\n",
              "      <th>25%</th>\n",
              "      <td>-0.307285</td>\n",
              "      <td>-0.274612</td>\n",
              "      <td>-0.323990</td>\n",
              "    </tr>\n",
              "    <tr>\n",
              "      <th>50%</th>\n",
              "      <td>0.024496</td>\n",
              "      <td>-0.049514</td>\n",
              "      <td>-0.271932</td>\n",
              "    </tr>\n",
              "    <tr>\n",
              "      <th>75%</th>\n",
              "      <td>0.263100</td>\n",
              "      <td>0.271701</td>\n",
              "      <td>-0.105041</td>\n",
              "    </tr>\n",
              "    <tr>\n",
              "      <th>max</th>\n",
              "      <td>1.083385</td>\n",
              "      <td>1.056127</td>\n",
              "      <td>0.634911</td>\n",
              "    </tr>\n",
              "  </tbody>\n",
              "</table>\n",
              "</div>"
            ],
            "text/plain": [
              "                  0             1             2\n",
              "count  16270.000000  16270.000000  16270.000000\n",
              "mean      -0.002926     -0.037676     -0.219458\n",
              "std        0.280571      0.273728      0.183016\n",
              "min       -1.019973     -0.661989     -1.057570\n",
              "25%       -0.307285     -0.274612     -0.323990\n",
              "50%        0.024496     -0.049514     -0.271932\n",
              "75%        0.263100      0.271701     -0.105041\n",
              "max        1.083385      1.056127      0.634911"
            ]
          },
          "metadata": {},
          "execution_count": 25
        }
      ]
    },
    {
      "cell_type": "markdown",
      "metadata": {
        "id": "9vy5pbCiPJSW"
      },
      "source": [
        "We can see that both the user and the item embeddings have negative elements. There are some applications which require that the learnt embeddings be non-negative. This approach is also called non-negative matrix factorisation, which we'll workout now."
      ]
    },
    {
      "cell_type": "markdown",
      "metadata": {
        "id": "d4I89smRPJSX"
      },
      "source": [
        "### Neural networks for recommendation\n",
        "\n",
        "We'll now create a simple neural network for recommendation, or for estimating rating! This model is very similar to the earlier matrix factorisation models, but differs in the following ways:\n",
        "\n",
        "1. Instead of taking a dot product of the user and the item embedding, we concatenate them and use them as features for our neural network. Thus, we are not constrained to the dot product way of combining the embeddings, and can learn complex non-linear relationships.\n",
        "2. Due to #1, we can now have a different dimension of user and item embeddings. This can be useful if one dimension is larger than the other."
      ]
    },
    {
      "cell_type": "code",
      "metadata": {
        "collapsed": true,
        "id": "R-MxVIKwPJSX"
      },
      "source": [
        "n_latent_factors_user = 5\n",
        "n_latent_factors_product = 8\n",
        "\n",
        "product_input = keras.layers.Input(shape=[1],name='Item')\n",
        "product_embedding = keras.layers.Embedding(n_product + 1, n_latent_factors_product, name='product-Embedding')(product_input)\n",
        "product_vec = keras.layers.Flatten(name='Flattenproducts')(product_embedding)\n",
        "product_vec = keras.layers.Dropout(0.2)(product_vec)\n",
        "\n",
        "\n",
        "user_input = keras.layers.Input(shape=[1],name='User')\n",
        "user_vec = keras.layers.Flatten(name='FlattenUsers')(keras.layers.Embedding(n_users + 1, n_latent_factors_user,name='User-Embedding')(user_input))\n",
        "user_vec = keras.layers.Dropout(0.2)(user_vec)\n",
        "\n",
        "\n",
        "concat = keras.layers.merge.concatenate([product_vec, user_vec],name='Concat')\n",
        "concat_dropout = keras.layers.Dropout(0.2)(concat)\n",
        "dense = keras.layers.Dense(200,name='FullyConnected')(concat)\n",
        "dropout_1 = keras.layers.Dropout(0.2,name='Dropout')(dense)\n",
        "dense_2 = keras.layers.Dense(100,name='FullyConnected-1')(concat)\n",
        "dropout_2 = keras.layers.Dropout(0.2,name='Dropout')(dense_2)\n",
        "dense_3 = keras.layers.Dense(50,name='FullyConnected-2')(dense_2)\n",
        "dropout_3 = keras.layers.Dropout(0.2,name='Dropout')(dense_3)\n",
        "dense_4 = keras.layers.Dense(20,name='FullyConnected-3', activation='relu')(dense_3)\n",
        "\n",
        "from keras import optimizers\n",
        "result = keras.layers.Dense(1, activation='relu',name='Activation')(dense_4)\n",
        "\n",
        "model = keras.Model([user_input, product_input], result)\n",
        "model.compile(optimizer='adam',loss= 'mean_absolute_error')"
      ],
      "execution_count": 29,
      "outputs": []
    },
    {
      "cell_type": "markdown",
      "metadata": {
        "id": "dRpr07qyPJSY"
      },
      "source": [
        "Let's now see how our model looks like:"
      ]
    },
    {
      "cell_type": "code",
      "metadata": {
        "id": "nLW57uoZPJSY",
        "colab": {
          "base_uri": "https://localhost:8080/",
          "height": 1000
        },
        "outputId": "10cd531a-8b6c-4dc9-e5ee-d8f1b9a576d8"
      },
      "source": [
        "SVG(model_to_dot(model,  show_shapes=True, show_layer_names=True, rankdir='HB').create(prog='dot', format='svg'))"
      ],
      "execution_count": 30,
      "outputs": [
        {
          "output_type": "execute_result",
          "data": {
            "text/plain": [
              "<IPython.core.display.SVG object>"
            ],
            "image/svg+xml": "<svg height=\"959pt\" viewBox=\"0.00 0.00 714.00 719.00\" width=\"952pt\" xmlns=\"http://www.w3.org/2000/svg\" xmlns:xlink=\"http://www.w3.org/1999/xlink\">\n<g class=\"graph\" id=\"graph0\" transform=\"scale(1.3333 1.3333) rotate(0) translate(4 715)\">\n<title>G</title>\n<polygon fill=\"#ffffff\" points=\"-4,4 -4,-715 710,-715 710,4 -4,4\" stroke=\"transparent\"/>\n<!-- 139949237493648 -->\n<g class=\"node\" id=\"node1\">\n<title>139949237493648</title>\n<polygon fill=\"none\" points=\"50.5,-664.5 50.5,-710.5 302.5,-710.5 302.5,-664.5 50.5,-664.5\" stroke=\"#000000\"/>\n<text fill=\"#000000\" font-family=\"Times,serif\" font-size=\"14.00\" text-anchor=\"middle\" x=\"107\" y=\"-683.8\">Item: InputLayer</text>\n<polyline fill=\"none\" points=\"163.5,-664.5 163.5,-710.5 \" stroke=\"#000000\"/>\n<text fill=\"#000000\" font-family=\"Times,serif\" font-size=\"14.00\" text-anchor=\"middle\" x=\"192.5\" y=\"-695.3\">input:</text>\n<polyline fill=\"none\" points=\"163.5,-687.5 221.5,-687.5 \" stroke=\"#000000\"/>\n<text fill=\"#000000\" font-family=\"Times,serif\" font-size=\"14.00\" text-anchor=\"middle\" x=\"192.5\" y=\"-672.3\">output:</text>\n<polyline fill=\"none\" points=\"221.5,-664.5 221.5,-710.5 \" stroke=\"#000000\"/>\n<text fill=\"#000000\" font-family=\"Times,serif\" font-size=\"14.00\" text-anchor=\"middle\" x=\"262\" y=\"-695.3\">[(None, 1)]</text>\n<polyline fill=\"none\" points=\"221.5,-687.5 302.5,-687.5 \" stroke=\"#000000\"/>\n<text fill=\"#000000\" font-family=\"Times,serif\" font-size=\"14.00\" text-anchor=\"middle\" x=\"262\" y=\"-672.3\">[(None, 1)]</text>\n</g>\n<!-- 139949237490256 -->\n<g class=\"node\" id=\"node3\">\n<title>139949237490256</title>\n<polygon fill=\"none\" points=\"0,-581.5 0,-627.5 353,-627.5 353,-581.5 0,-581.5\" stroke=\"#000000\"/>\n<text fill=\"#000000\" font-family=\"Times,serif\" font-size=\"14.00\" text-anchor=\"middle\" x=\"104\" y=\"-600.8\">product-Embedding: Embedding</text>\n<polyline fill=\"none\" points=\"208,-581.5 208,-627.5 \" stroke=\"#000000\"/>\n<text fill=\"#000000\" font-family=\"Times,serif\" font-size=\"14.00\" text-anchor=\"middle\" x=\"237\" y=\"-612.3\">input:</text>\n<polyline fill=\"none\" points=\"208,-604.5 266,-604.5 \" stroke=\"#000000\"/>\n<text fill=\"#000000\" font-family=\"Times,serif\" font-size=\"14.00\" text-anchor=\"middle\" x=\"237\" y=\"-589.3\">output:</text>\n<polyline fill=\"none\" points=\"266,-581.5 266,-627.5 \" stroke=\"#000000\"/>\n<text fill=\"#000000\" font-family=\"Times,serif\" font-size=\"14.00\" text-anchor=\"middle\" x=\"309.5\" y=\"-612.3\">(None, 1)</text>\n<polyline fill=\"none\" points=\"266,-604.5 353,-604.5 \" stroke=\"#000000\"/>\n<text fill=\"#000000\" font-family=\"Times,serif\" font-size=\"14.00\" text-anchor=\"middle\" x=\"309.5\" y=\"-589.3\">(None, 1, 8)</text>\n</g>\n<!-- 139949237493648&#45;&gt;139949237490256 -->\n<g class=\"edge\" id=\"edge1\">\n<title>139949237493648-&gt;139949237490256</title>\n<path d=\"M176.5,-664.3799C176.5,-656.1745 176.5,-646.7679 176.5,-637.8786\" fill=\"none\" stroke=\"#000000\"/>\n<polygon fill=\"#000000\" points=\"180.0001,-637.784 176.5,-627.784 173.0001,-637.784 180.0001,-637.784\" stroke=\"#000000\"/>\n</g>\n<!-- 139950763594000 -->\n<g class=\"node\" id=\"node2\">\n<title>139950763594000</title>\n<polygon fill=\"none\" points=\"412,-664.5 412,-710.5 665,-710.5 665,-664.5 412,-664.5\" stroke=\"#000000\"/>\n<text fill=\"#000000\" font-family=\"Times,serif\" font-size=\"14.00\" text-anchor=\"middle\" x=\"469\" y=\"-683.8\">User: InputLayer</text>\n<polyline fill=\"none\" points=\"526,-664.5 526,-710.5 \" stroke=\"#000000\"/>\n<text fill=\"#000000\" font-family=\"Times,serif\" font-size=\"14.00\" text-anchor=\"middle\" x=\"555\" y=\"-695.3\">input:</text>\n<polyline fill=\"none\" points=\"526,-687.5 584,-687.5 \" stroke=\"#000000\"/>\n<text fill=\"#000000\" font-family=\"Times,serif\" font-size=\"14.00\" text-anchor=\"middle\" x=\"555\" y=\"-672.3\">output:</text>\n<polyline fill=\"none\" points=\"584,-664.5 584,-710.5 \" stroke=\"#000000\"/>\n<text fill=\"#000000\" font-family=\"Times,serif\" font-size=\"14.00\" text-anchor=\"middle\" x=\"624.5\" y=\"-695.3\">[(None, 1)]</text>\n<polyline fill=\"none\" points=\"584,-687.5 665,-687.5 \" stroke=\"#000000\"/>\n<text fill=\"#000000\" font-family=\"Times,serif\" font-size=\"14.00\" text-anchor=\"middle\" x=\"624.5\" y=\"-672.3\">[(None, 1)]</text>\n</g>\n<!-- 139950763706640 -->\n<g class=\"node\" id=\"node4\">\n<title>139950763706640</title>\n<polygon fill=\"none\" points=\"371,-581.5 371,-627.5 706,-627.5 706,-581.5 371,-581.5\" stroke=\"#000000\"/>\n<text fill=\"#000000\" font-family=\"Times,serif\" font-size=\"14.00\" text-anchor=\"middle\" x=\"466\" y=\"-600.8\">User-Embedding: Embedding</text>\n<polyline fill=\"none\" points=\"561,-581.5 561,-627.5 \" stroke=\"#000000\"/>\n<text fill=\"#000000\" font-family=\"Times,serif\" font-size=\"14.00\" text-anchor=\"middle\" x=\"590\" y=\"-612.3\">input:</text>\n<polyline fill=\"none\" points=\"561,-604.5 619,-604.5 \" stroke=\"#000000\"/>\n<text fill=\"#000000\" font-family=\"Times,serif\" font-size=\"14.00\" text-anchor=\"middle\" x=\"590\" y=\"-589.3\">output:</text>\n<polyline fill=\"none\" points=\"619,-581.5 619,-627.5 \" stroke=\"#000000\"/>\n<text fill=\"#000000\" font-family=\"Times,serif\" font-size=\"14.00\" text-anchor=\"middle\" x=\"662.5\" y=\"-612.3\">(None, 1)</text>\n<polyline fill=\"none\" points=\"619,-604.5 706,-604.5 \" stroke=\"#000000\"/>\n<text fill=\"#000000\" font-family=\"Times,serif\" font-size=\"14.00\" text-anchor=\"middle\" x=\"662.5\" y=\"-589.3\">(None, 1, 5)</text>\n</g>\n<!-- 139950763594000&#45;&gt;139950763706640 -->\n<g class=\"edge\" id=\"edge2\">\n<title>139950763594000-&gt;139950763706640</title>\n<path d=\"M538.5,-664.3799C538.5,-656.1745 538.5,-646.7679 538.5,-637.8786\" fill=\"none\" stroke=\"#000000\"/>\n<polygon fill=\"#000000\" points=\"542.0001,-637.784 538.5,-627.784 535.0001,-637.784 542.0001,-637.784\" stroke=\"#000000\"/>\n</g>\n<!-- 139949259916304 -->\n<g class=\"node\" id=\"node5\">\n<title>139949259916304</title>\n<polygon fill=\"none\" points=\"56,-498.5 56,-544.5 353,-544.5 353,-498.5 56,-498.5\" stroke=\"#000000\"/>\n<text fill=\"#000000\" font-family=\"Times,serif\" font-size=\"14.00\" text-anchor=\"middle\" x=\"132\" y=\"-517.8\">Flattenproducts: Flatten</text>\n<polyline fill=\"none\" points=\"208,-498.5 208,-544.5 \" stroke=\"#000000\"/>\n<text fill=\"#000000\" font-family=\"Times,serif\" font-size=\"14.00\" text-anchor=\"middle\" x=\"237\" y=\"-529.3\">input:</text>\n<polyline fill=\"none\" points=\"208,-521.5 266,-521.5 \" stroke=\"#000000\"/>\n<text fill=\"#000000\" font-family=\"Times,serif\" font-size=\"14.00\" text-anchor=\"middle\" x=\"237\" y=\"-506.3\">output:</text>\n<polyline fill=\"none\" points=\"266,-498.5 266,-544.5 \" stroke=\"#000000\"/>\n<text fill=\"#000000\" font-family=\"Times,serif\" font-size=\"14.00\" text-anchor=\"middle\" x=\"309.5\" y=\"-529.3\">(None, 1, 8)</text>\n<polyline fill=\"none\" points=\"266,-521.5 353,-521.5 \" stroke=\"#000000\"/>\n<text fill=\"#000000\" font-family=\"Times,serif\" font-size=\"14.00\" text-anchor=\"middle\" x=\"309.5\" y=\"-506.3\">(None, 8)</text>\n</g>\n<!-- 139949237490256&#45;&gt;139949259916304 -->\n<g class=\"edge\" id=\"edge3\">\n<title>139949237490256-&gt;139949259916304</title>\n<path d=\"M184.2996,-581.3799C187.1278,-572.9962 190.3791,-563.3584 193.4351,-554.2996\" fill=\"none\" stroke=\"#000000\"/>\n<polygon fill=\"#000000\" points=\"196.765,-555.3782 196.6452,-544.784 190.1322,-553.1406 196.765,-555.3782\" stroke=\"#000000\"/>\n</g>\n<!-- 139950763596560 -->\n<g class=\"node\" id=\"node6\">\n<title>139950763596560</title>\n<polygon fill=\"none\" points=\"385,-498.5 385,-544.5 664,-544.5 664,-498.5 385,-498.5\" stroke=\"#000000\"/>\n<text fill=\"#000000\" font-family=\"Times,serif\" font-size=\"14.00\" text-anchor=\"middle\" x=\"452\" y=\"-517.8\">FlattenUsers: Flatten</text>\n<polyline fill=\"none\" points=\"519,-498.5 519,-544.5 \" stroke=\"#000000\"/>\n<text fill=\"#000000\" font-family=\"Times,serif\" font-size=\"14.00\" text-anchor=\"middle\" x=\"548\" y=\"-529.3\">input:</text>\n<polyline fill=\"none\" points=\"519,-521.5 577,-521.5 \" stroke=\"#000000\"/>\n<text fill=\"#000000\" font-family=\"Times,serif\" font-size=\"14.00\" text-anchor=\"middle\" x=\"548\" y=\"-506.3\">output:</text>\n<polyline fill=\"none\" points=\"577,-498.5 577,-544.5 \" stroke=\"#000000\"/>\n<text fill=\"#000000\" font-family=\"Times,serif\" font-size=\"14.00\" text-anchor=\"middle\" x=\"620.5\" y=\"-529.3\">(None, 1, 5)</text>\n<polyline fill=\"none\" points=\"577,-521.5 664,-521.5 \" stroke=\"#000000\"/>\n<text fill=\"#000000\" font-family=\"Times,serif\" font-size=\"14.00\" text-anchor=\"middle\" x=\"620.5\" y=\"-506.3\">(None, 5)</text>\n</g>\n<!-- 139950763706640&#45;&gt;139950763596560 -->\n<g class=\"edge\" id=\"edge4\">\n<title>139950763706640-&gt;139950763596560</title>\n<path d=\"M534.6002,-581.3799C533.2162,-573.1745 531.6295,-563.7679 530.1301,-554.8786\" fill=\"none\" stroke=\"#000000\"/>\n<polygon fill=\"#000000\" points=\"533.542,-554.0625 528.4274,-544.784 526.6395,-555.2269 533.542,-554.0625\" stroke=\"#000000\"/>\n</g>\n<!-- 139950763628048 -->\n<g class=\"node\" id=\"node7\">\n<title>139950763628048</title>\n<polygon fill=\"none\" points=\"95,-415.5 95,-461.5 344,-461.5 344,-415.5 95,-415.5\" stroke=\"#000000\"/>\n<text fill=\"#000000\" font-family=\"Times,serif\" font-size=\"14.00\" text-anchor=\"middle\" x=\"154.5\" y=\"-434.8\">dropout: Dropout</text>\n<polyline fill=\"none\" points=\"214,-415.5 214,-461.5 \" stroke=\"#000000\"/>\n<text fill=\"#000000\" font-family=\"Times,serif\" font-size=\"14.00\" text-anchor=\"middle\" x=\"243\" y=\"-446.3\">input:</text>\n<polyline fill=\"none\" points=\"214,-438.5 272,-438.5 \" stroke=\"#000000\"/>\n<text fill=\"#000000\" font-family=\"Times,serif\" font-size=\"14.00\" text-anchor=\"middle\" x=\"243\" y=\"-423.3\">output:</text>\n<polyline fill=\"none\" points=\"272,-415.5 272,-461.5 \" stroke=\"#000000\"/>\n<text fill=\"#000000\" font-family=\"Times,serif\" font-size=\"14.00\" text-anchor=\"middle\" x=\"308\" y=\"-446.3\">(None, 8)</text>\n<polyline fill=\"none\" points=\"272,-438.5 344,-438.5 \" stroke=\"#000000\"/>\n<text fill=\"#000000\" font-family=\"Times,serif\" font-size=\"14.00\" text-anchor=\"middle\" x=\"308\" y=\"-423.3\">(None, 8)</text>\n</g>\n<!-- 139949259916304&#45;&gt;139950763628048 -->\n<g class=\"edge\" id=\"edge5\">\n<title>139949259916304-&gt;139950763628048</title>\n<path d=\"M208.6783,-498.3799C210.1612,-490.1745 211.8612,-480.7679 213.4677,-471.8786\" fill=\"none\" stroke=\"#000000\"/>\n<polygon fill=\"#000000\" points=\"216.9578,-472.2471 215.292,-461.784 210.0693,-471.0021 216.9578,-472.2471\" stroke=\"#000000\"/>\n</g>\n<!-- 139949237420816 -->\n<g class=\"node\" id=\"node8\">\n<title>139949237420816</title>\n<polygon fill=\"none\" points=\"377.5,-415.5 377.5,-461.5 641.5,-461.5 641.5,-415.5 377.5,-415.5\" stroke=\"#000000\"/>\n<text fill=\"#000000\" font-family=\"Times,serif\" font-size=\"14.00\" text-anchor=\"middle\" x=\"444.5\" y=\"-434.8\">dropout_1: Dropout</text>\n<polyline fill=\"none\" points=\"511.5,-415.5 511.5,-461.5 \" stroke=\"#000000\"/>\n<text fill=\"#000000\" font-family=\"Times,serif\" font-size=\"14.00\" text-anchor=\"middle\" x=\"540.5\" y=\"-446.3\">input:</text>\n<polyline fill=\"none\" points=\"511.5,-438.5 569.5,-438.5 \" stroke=\"#000000\"/>\n<text fill=\"#000000\" font-family=\"Times,serif\" font-size=\"14.00\" text-anchor=\"middle\" x=\"540.5\" y=\"-423.3\">output:</text>\n<polyline fill=\"none\" points=\"569.5,-415.5 569.5,-461.5 \" stroke=\"#000000\"/>\n<text fill=\"#000000\" font-family=\"Times,serif\" font-size=\"14.00\" text-anchor=\"middle\" x=\"605.5\" y=\"-446.3\">(None, 5)</text>\n<polyline fill=\"none\" points=\"569.5,-438.5 641.5,-438.5 \" stroke=\"#000000\"/>\n<text fill=\"#000000\" font-family=\"Times,serif\" font-size=\"14.00\" text-anchor=\"middle\" x=\"605.5\" y=\"-423.3\">(None, 5)</text>\n</g>\n<!-- 139950763596560&#45;&gt;139949237420816 -->\n<g class=\"edge\" id=\"edge6\">\n<title>139950763596560-&gt;139949237420816</title>\n<path d=\"M520.3217,-498.3799C518.8388,-490.1745 517.1388,-480.7679 515.5323,-471.8786\" fill=\"none\" stroke=\"#000000\"/>\n<polygon fill=\"#000000\" points=\"518.9307,-471.0021 513.708,-461.784 512.0422,-472.2471 518.9307,-471.0021\" stroke=\"#000000\"/>\n</g>\n<!-- 139949237530768 -->\n<g class=\"node\" id=\"node9\">\n<title>139949237530768</title>\n<polygon fill=\"none\" points=\"188.5,-332.5 188.5,-378.5 524.5,-378.5 524.5,-332.5 188.5,-332.5\" stroke=\"#000000\"/>\n<text fill=\"#000000\" font-family=\"Times,serif\" font-size=\"14.00\" text-anchor=\"middle\" x=\"255.5\" y=\"-351.8\">Concat: Concatenate</text>\n<polyline fill=\"none\" points=\"322.5,-332.5 322.5,-378.5 \" stroke=\"#000000\"/>\n<text fill=\"#000000\" font-family=\"Times,serif\" font-size=\"14.00\" text-anchor=\"middle\" x=\"351.5\" y=\"-363.3\">input:</text>\n<polyline fill=\"none\" points=\"322.5,-355.5 380.5,-355.5 \" stroke=\"#000000\"/>\n<text fill=\"#000000\" font-family=\"Times,serif\" font-size=\"14.00\" text-anchor=\"middle\" x=\"351.5\" y=\"-340.3\">output:</text>\n<polyline fill=\"none\" points=\"380.5,-332.5 380.5,-378.5 \" stroke=\"#000000\"/>\n<text fill=\"#000000\" font-family=\"Times,serif\" font-size=\"14.00\" text-anchor=\"middle\" x=\"452.5\" y=\"-363.3\">[(None, 8), (None, 5)]</text>\n<polyline fill=\"none\" points=\"380.5,-355.5 524.5,-355.5 \" stroke=\"#000000\"/>\n<text fill=\"#000000\" font-family=\"Times,serif\" font-size=\"14.00\" text-anchor=\"middle\" x=\"452.5\" y=\"-340.3\">(None, 13)</text>\n</g>\n<!-- 139950763628048&#45;&gt;139949237530768 -->\n<g class=\"edge\" id=\"edge7\">\n<title>139950763628048-&gt;139949237530768</title>\n<path d=\"M257.6621,-415.3799C273.7085,-405.6583 292.5383,-394.2505 309.4336,-384.0147\" fill=\"none\" stroke=\"#000000\"/>\n<polygon fill=\"#000000\" points=\"311.3281,-386.9592 318.0674,-378.784 307.7009,-380.9722 311.3281,-386.9592\" stroke=\"#000000\"/>\n</g>\n<!-- 139949237420816&#45;&gt;139949237530768 -->\n<g class=\"edge\" id=\"edge8\">\n<title>139949237420816-&gt;139949237530768</title>\n<path d=\"M466.881,-415.3799C448.6376,-405.4832 427.1727,-393.8388 408.0453,-383.4625\" fill=\"none\" stroke=\"#000000\"/>\n<polygon fill=\"#000000\" points=\"409.6144,-380.3319 399.1556,-378.6399 406.2765,-386.4849 409.6144,-380.3319\" stroke=\"#000000\"/>\n</g>\n<!-- 139950763986576 -->\n<g class=\"node\" id=\"node10\">\n<title>139950763986576</title>\n<polygon fill=\"none\" points=\"202,-249.5 202,-295.5 511,-295.5 511,-249.5 202,-249.5\" stroke=\"#000000\"/>\n<text fill=\"#000000\" font-family=\"Times,serif\" font-size=\"14.00\" text-anchor=\"middle\" x=\"284\" y=\"-268.8\">FullyConnected-1: Dense</text>\n<polyline fill=\"none\" points=\"366,-249.5 366,-295.5 \" stroke=\"#000000\"/>\n<text fill=\"#000000\" font-family=\"Times,serif\" font-size=\"14.00\" text-anchor=\"middle\" x=\"395\" y=\"-280.3\">input:</text>\n<polyline fill=\"none\" points=\"366,-272.5 424,-272.5 \" stroke=\"#000000\"/>\n<text fill=\"#000000\" font-family=\"Times,serif\" font-size=\"14.00\" text-anchor=\"middle\" x=\"395\" y=\"-257.3\">output:</text>\n<polyline fill=\"none\" points=\"424,-249.5 424,-295.5 \" stroke=\"#000000\"/>\n<text fill=\"#000000\" font-family=\"Times,serif\" font-size=\"14.00\" text-anchor=\"middle\" x=\"467.5\" y=\"-280.3\">(None, 13)</text>\n<polyline fill=\"none\" points=\"424,-272.5 511,-272.5 \" stroke=\"#000000\"/>\n<text fill=\"#000000\" font-family=\"Times,serif\" font-size=\"14.00\" text-anchor=\"middle\" x=\"467.5\" y=\"-257.3\">(None, 100)</text>\n</g>\n<!-- 139949237530768&#45;&gt;139950763986576 -->\n<g class=\"edge\" id=\"edge9\">\n<title>139949237530768-&gt;139950763986576</title>\n<path d=\"M356.5,-332.3799C356.5,-324.1745 356.5,-314.7679 356.5,-305.8786\" fill=\"none\" stroke=\"#000000\"/>\n<polygon fill=\"#000000\" points=\"360.0001,-305.784 356.5,-295.784 353.0001,-305.784 360.0001,-305.784\" stroke=\"#000000\"/>\n</g>\n<!-- 139950763723792 -->\n<g class=\"node\" id=\"node11\">\n<title>139950763723792</title>\n<polygon fill=\"none\" points=\"202,-166.5 202,-212.5 511,-212.5 511,-166.5 202,-166.5\" stroke=\"#000000\"/>\n<text fill=\"#000000\" font-family=\"Times,serif\" font-size=\"14.00\" text-anchor=\"middle\" x=\"284\" y=\"-185.8\">FullyConnected-2: Dense</text>\n<polyline fill=\"none\" points=\"366,-166.5 366,-212.5 \" stroke=\"#000000\"/>\n<text fill=\"#000000\" font-family=\"Times,serif\" font-size=\"14.00\" text-anchor=\"middle\" x=\"395\" y=\"-197.3\">input:</text>\n<polyline fill=\"none\" points=\"366,-189.5 424,-189.5 \" stroke=\"#000000\"/>\n<text fill=\"#000000\" font-family=\"Times,serif\" font-size=\"14.00\" text-anchor=\"middle\" x=\"395\" y=\"-174.3\">output:</text>\n<polyline fill=\"none\" points=\"424,-166.5 424,-212.5 \" stroke=\"#000000\"/>\n<text fill=\"#000000\" font-family=\"Times,serif\" font-size=\"14.00\" text-anchor=\"middle\" x=\"467.5\" y=\"-197.3\">(None, 100)</text>\n<polyline fill=\"none\" points=\"424,-189.5 511,-189.5 \" stroke=\"#000000\"/>\n<text fill=\"#000000\" font-family=\"Times,serif\" font-size=\"14.00\" text-anchor=\"middle\" x=\"467.5\" y=\"-174.3\">(None, 50)</text>\n</g>\n<!-- 139950763986576&#45;&gt;139950763723792 -->\n<g class=\"edge\" id=\"edge10\">\n<title>139950763986576-&gt;139950763723792</title>\n<path d=\"M356.5,-249.3799C356.5,-241.1745 356.5,-231.7679 356.5,-222.8786\" fill=\"none\" stroke=\"#000000\"/>\n<polygon fill=\"#000000\" points=\"360.0001,-222.784 356.5,-212.784 353.0001,-222.784 360.0001,-222.784\" stroke=\"#000000\"/>\n</g>\n<!-- 139950763769360 -->\n<g class=\"node\" id=\"node12\">\n<title>139950763769360</title>\n<polygon fill=\"none\" points=\"205.5,-83.5 205.5,-129.5 507.5,-129.5 507.5,-83.5 205.5,-83.5\" stroke=\"#000000\"/>\n<text fill=\"#000000\" font-family=\"Times,serif\" font-size=\"14.00\" text-anchor=\"middle\" x=\"287.5\" y=\"-102.8\">FullyConnected-3: Dense</text>\n<polyline fill=\"none\" points=\"369.5,-83.5 369.5,-129.5 \" stroke=\"#000000\"/>\n<text fill=\"#000000\" font-family=\"Times,serif\" font-size=\"14.00\" text-anchor=\"middle\" x=\"398.5\" y=\"-114.3\">input:</text>\n<polyline fill=\"none\" points=\"369.5,-106.5 427.5,-106.5 \" stroke=\"#000000\"/>\n<text fill=\"#000000\" font-family=\"Times,serif\" font-size=\"14.00\" text-anchor=\"middle\" x=\"398.5\" y=\"-91.3\">output:</text>\n<polyline fill=\"none\" points=\"427.5,-83.5 427.5,-129.5 \" stroke=\"#000000\"/>\n<text fill=\"#000000\" font-family=\"Times,serif\" font-size=\"14.00\" text-anchor=\"middle\" x=\"467.5\" y=\"-114.3\">(None, 50)</text>\n<polyline fill=\"none\" points=\"427.5,-106.5 507.5,-106.5 \" stroke=\"#000000\"/>\n<text fill=\"#000000\" font-family=\"Times,serif\" font-size=\"14.00\" text-anchor=\"middle\" x=\"467.5\" y=\"-91.3\">(None, 20)</text>\n</g>\n<!-- 139950763723792&#45;&gt;139950763769360 -->\n<g class=\"edge\" id=\"edge11\">\n<title>139950763723792-&gt;139950763769360</title>\n<path d=\"M356.5,-166.3799C356.5,-158.1745 356.5,-148.7679 356.5,-139.8786\" fill=\"none\" stroke=\"#000000\"/>\n<polygon fill=\"#000000\" points=\"360.0001,-139.784 356.5,-129.784 353.0001,-139.784 360.0001,-139.784\" stroke=\"#000000\"/>\n</g>\n<!-- 139950770350288 -->\n<g class=\"node\" id=\"node13\">\n<title>139950770350288</title>\n<polygon fill=\"none\" points=\"228,-.5 228,-46.5 485,-46.5 485,-.5 228,-.5\" stroke=\"#000000\"/>\n<text fill=\"#000000\" font-family=\"Times,serif\" font-size=\"14.00\" text-anchor=\"middle\" x=\"287.5\" y=\"-19.8\">Activation: Dense</text>\n<polyline fill=\"none\" points=\"347,-.5 347,-46.5 \" stroke=\"#000000\"/>\n<text fill=\"#000000\" font-family=\"Times,serif\" font-size=\"14.00\" text-anchor=\"middle\" x=\"376\" y=\"-31.3\">input:</text>\n<polyline fill=\"none\" points=\"347,-23.5 405,-23.5 \" stroke=\"#000000\"/>\n<text fill=\"#000000\" font-family=\"Times,serif\" font-size=\"14.00\" text-anchor=\"middle\" x=\"376\" y=\"-8.3\">output:</text>\n<polyline fill=\"none\" points=\"405,-.5 405,-46.5 \" stroke=\"#000000\"/>\n<text fill=\"#000000\" font-family=\"Times,serif\" font-size=\"14.00\" text-anchor=\"middle\" x=\"445\" y=\"-31.3\">(None, 20)</text>\n<polyline fill=\"none\" points=\"405,-23.5 485,-23.5 \" stroke=\"#000000\"/>\n<text fill=\"#000000\" font-family=\"Times,serif\" font-size=\"14.00\" text-anchor=\"middle\" x=\"445\" y=\"-8.3\">(None, 1)</text>\n</g>\n<!-- 139950763769360&#45;&gt;139950770350288 -->\n<g class=\"edge\" id=\"edge12\">\n<title>139950763769360-&gt;139950770350288</title>\n<path d=\"M356.5,-83.3799C356.5,-75.1745 356.5,-65.7679 356.5,-56.8786\" fill=\"none\" stroke=\"#000000\"/>\n<polygon fill=\"#000000\" points=\"360.0001,-56.784 356.5,-46.784 353.0001,-56.784 360.0001,-56.784\" stroke=\"#000000\"/>\n</g>\n</g>\n</svg>"
          },
          "metadata": {},
          "execution_count": 30
        }
      ]
    },
    {
      "cell_type": "markdown",
      "metadata": {
        "id": "w68zCcKWPJSZ"
      },
      "source": [
        "It should be noted that we use a different number of embeddings for user (3) and items (5)! These combine to form a vector of length (5+3 = 8), which is then fed into the neural network. We also add a dropout layer to prevent overfitting!"
      ]
    },
    {
      "cell_type": "code",
      "metadata": {
        "id": "4-iUG5dOPJSZ",
        "colab": {
          "base_uri": "https://localhost:8080/"
        },
        "outputId": "942c8e73-be5b-4eac-fe5d-5538982afcb7"
      },
      "source": [
        "model.summary()"
      ],
      "execution_count": 31,
      "outputs": [
        {
          "output_type": "stream",
          "name": "stdout",
          "text": [
            "Model: \"model_1\"\n",
            "__________________________________________________________________________________________________\n",
            "Layer (type)                    Output Shape         Param #     Connected to                     \n",
            "==================================================================================================\n",
            "Item (InputLayer)               [(None, 1)]          0                                            \n",
            "__________________________________________________________________________________________________\n",
            "User (InputLayer)               [(None, 1)]          0                                            \n",
            "__________________________________________________________________________________________________\n",
            "product-Embedding (Embedding)   (None, 1, 8)         528         Item[0][0]                       \n",
            "__________________________________________________________________________________________________\n",
            "User-Embedding (Embedding)      (None, 1, 5)         81350       User[0][0]                       \n",
            "__________________________________________________________________________________________________\n",
            "Flattenproducts (Flatten)       (None, 8)            0           product-Embedding[0][0]          \n",
            "__________________________________________________________________________________________________\n",
            "FlattenUsers (Flatten)          (None, 5)            0           User-Embedding[0][0]             \n",
            "__________________________________________________________________________________________________\n",
            "dropout (Dropout)               (None, 8)            0           Flattenproducts[0][0]            \n",
            "__________________________________________________________________________________________________\n",
            "dropout_1 (Dropout)             (None, 5)            0           FlattenUsers[0][0]               \n",
            "__________________________________________________________________________________________________\n",
            "Concat (Concatenate)            (None, 13)           0           dropout[0][0]                    \n",
            "                                                                 dropout_1[0][0]                  \n",
            "__________________________________________________________________________________________________\n",
            "FullyConnected-1 (Dense)        (None, 100)          1400        Concat[0][0]                     \n",
            "__________________________________________________________________________________________________\n",
            "FullyConnected-2 (Dense)        (None, 50)           5050        FullyConnected-1[0][0]           \n",
            "__________________________________________________________________________________________________\n",
            "FullyConnected-3 (Dense)        (None, 20)           1020        FullyConnected-2[0][0]           \n",
            "__________________________________________________________________________________________________\n",
            "Activation (Dense)              (None, 1)            21          FullyConnected-3[0][0]           \n",
            "==================================================================================================\n",
            "Total params: 89,369\n",
            "Trainable params: 89,369\n",
            "Non-trainable params: 0\n",
            "__________________________________________________________________________________________________\n"
          ]
        }
      ]
    },
    {
      "cell_type": "markdown",
      "metadata": {
        "id": "FzHiVE-mPJSZ"
      },
      "source": [
        "We can see that the number of parameters is more than what we had in the Matrix Factorisation case. Let's see how this model works. I'll run it for more epochs given that we have more parameters."
      ]
    },
    {
      "cell_type": "code",
      "metadata": {
        "colab": {
          "base_uri": "https://localhost:8080/",
          "height": 121
        },
        "id": "gJ16e_h4hbgN",
        "outputId": "9292deb6-b74e-4100-ca00-c590c79554b2"
      },
      "source": [
        "wandb.init(project='pythoncollaborative',\n",
        "           entity='team-stars-project',\n",
        "           save_code= True,name=\"Collaborative_Neural_Networks_Keras\",\n",
        "           config={\"architecture\":\"Keras\",\n",
        "           \"dataset\":\"Datafiniti Amazon Consumer Reviews\"})\n",
        "\n",
        "# 2. Save model inputs and hyperparameters\n",
        "config = wandb.config\n",
        "config.learning_rate = 0.01"
      ],
      "execution_count": 32,
      "outputs": [
        {
          "output_type": "display_data",
          "data": {
            "text/html": [
              "\n",
              "                Tracking run with wandb version 0.12.2<br/>\n",
              "                Syncing run <strong style=\"color:#cdcd00\">Collaborative_Neural_Networks_Keras</strong> to <a href=\"https://wandb.ai\" target=\"_blank\">Weights & Biases</a> <a href=\"https://docs.wandb.com/integrations/jupyter.html\" target=\"_blank\">(Documentation)</a>.<br/>\n",
              "                Project page: <a href=\"https://wandb.ai/team-stars-project/pythoncollaborative\" target=\"_blank\">https://wandb.ai/team-stars-project/pythoncollaborative</a><br/>\n",
              "                Run page: <a href=\"https://wandb.ai/team-stars-project/pythoncollaborative/runs/28h6tm76\" target=\"_blank\">https://wandb.ai/team-stars-project/pythoncollaborative/runs/28h6tm76</a><br/>\n",
              "                Run data is saved locally in <code>/content/wandb/run-20210927_051302-28h6tm76</code><br/><br/>\n",
              "            "
            ],
            "text/plain": [
              "<IPython.core.display.HTML object>"
            ]
          },
          "metadata": {}
        }
      ]
    },
    {
      "cell_type": "code",
      "metadata": {
        "id": "EmDP-dLbPJSa",
        "colab": {
          "base_uri": "https://localhost:8080/",
          "height": 1000,
          "referenced_widgets": [
            "dc711e4edca544c9b6fab10d96be7d76",
            "ea926fc6c1c64ebd8fd8b89d8fae9908",
            "f86af74e8af54101b4a588bbc72ed15c",
            "f98bfffa642b4a2f946c301d86ce9779",
            "c5d14e3a3161469ebaedab458f3c9372",
            "d709409e74d841c581d7c241478bd011",
            "ddd99636ae5c4b4f834a292766851bbb",
            "63e38901b0ce4de4b521dc997b32cda8"
          ]
        },
        "outputId": "3776bc05-305a-426a-e63b-b00823ab4a29"
      },
      "source": [
        "history = model.fit([train.user_id, train.item_id], train.rating, validation_split=0.1, epochs=25, verbose=1,callbacks=[WandbCallback()])\n",
        "wandb.finish()"
      ],
      "execution_count": 33,
      "outputs": [
        {
          "output_type": "stream",
          "name": "stdout",
          "text": [
            "Epoch 1/25\n",
            "638/638 [==============================] - 3s 3ms/step - loss: 0.7357 - val_loss: 0.5231\n",
            "Epoch 2/25\n",
            "638/638 [==============================] - 2s 3ms/step - loss: 0.4980 - val_loss: 0.5056\n",
            "Epoch 3/25\n",
            "638/638 [==============================] - 2s 3ms/step - loss: 0.4681 - val_loss: 0.5167\n",
            "Epoch 4/25\n",
            "638/638 [==============================] - 2s 3ms/step - loss: 0.3936 - val_loss: 0.4799\n",
            "Epoch 5/25\n",
            "638/638 [==============================] - 2s 3ms/step - loss: 0.3585 - val_loss: 0.4810\n",
            "Epoch 6/25\n",
            "638/638 [==============================] - 2s 3ms/step - loss: 0.2699 - val_loss: 0.4135\n",
            "Epoch 7/25\n",
            "638/638 [==============================] - 2s 3ms/step - loss: 0.2341 - val_loss: 0.3965\n",
            "Epoch 8/25\n",
            "638/638 [==============================] - 2s 3ms/step - loss: 0.2135 - val_loss: 0.4135\n",
            "Epoch 9/25\n",
            "638/638 [==============================] - 2s 3ms/step - loss: 0.2018 - val_loss: 0.4190\n",
            "Epoch 10/25\n",
            "638/638 [==============================] - 2s 3ms/step - loss: 0.1919 - val_loss: 0.3904\n",
            "Epoch 11/25\n",
            "638/638 [==============================] - 2s 3ms/step - loss: 0.1845 - val_loss: 0.3995\n",
            "Epoch 12/25\n",
            "638/638 [==============================] - 2s 3ms/step - loss: 0.1835 - val_loss: 0.4055\n",
            "Epoch 13/25\n",
            "638/638 [==============================] - 2s 3ms/step - loss: 0.1795 - val_loss: 0.4305\n",
            "Epoch 14/25\n",
            "638/638 [==============================] - 2s 3ms/step - loss: 0.1795 - val_loss: 0.4061\n",
            "Epoch 15/25\n",
            "638/638 [==============================] - 2s 3ms/step - loss: 0.1764 - val_loss: 0.3860\n",
            "Epoch 16/25\n",
            "638/638 [==============================] - 2s 3ms/step - loss: 0.1738 - val_loss: 0.3998\n",
            "Epoch 17/25\n",
            "638/638 [==============================] - 2s 3ms/step - loss: 0.1726 - val_loss: 0.4165\n",
            "Epoch 18/25\n",
            "638/638 [==============================] - 2s 3ms/step - loss: 0.1749 - val_loss: 0.3921\n",
            "Epoch 19/25\n",
            "638/638 [==============================] - 2s 3ms/step - loss: 0.1718 - val_loss: 0.3989\n",
            "Epoch 20/25\n",
            "638/638 [==============================] - 2s 3ms/step - loss: 0.1685 - val_loss: 0.3933\n",
            "Epoch 21/25\n",
            "638/638 [==============================] - 2s 3ms/step - loss: 0.1704 - val_loss: 0.4170\n",
            "Epoch 22/25\n",
            "638/638 [==============================] - 2s 3ms/step - loss: 0.1673 - val_loss: 0.3891\n",
            "Epoch 23/25\n",
            "638/638 [==============================] - 2s 3ms/step - loss: 0.1672 - val_loss: 0.3878\n",
            "Epoch 24/25\n",
            "638/638 [==============================] - 2s 3ms/step - loss: 0.1666 - val_loss: 0.3815\n",
            "Epoch 25/25\n",
            "638/638 [==============================] - 2s 3ms/step - loss: 0.1662 - val_loss: 0.4028\n"
          ]
        },
        {
          "output_type": "display_data",
          "data": {
            "text/html": [
              "<br/>Waiting for W&B process to finish, PID 546<br/>Program ended successfully."
            ],
            "text/plain": [
              "<IPython.core.display.HTML object>"
            ]
          },
          "metadata": {}
        },
        {
          "output_type": "display_data",
          "data": {
            "application/vnd.jupyter.widget-view+json": {
              "model_id": "dc711e4edca544c9b6fab10d96be7d76",
              "version_minor": 0,
              "version_major": 2
            },
            "text/plain": [
              "VBox(children=(Label(value=' 1.08MB of 1.08MB uploaded (0.00MB deduped)\\r'), FloatProgress(value=1.0, max=1.0)…"
            ]
          },
          "metadata": {}
        },
        {
          "output_type": "display_data",
          "data": {
            "text/html": [
              "Find user logs for this run at: <code>/content/wandb/run-20210927_051302-28h6tm76/logs/debug.log</code>"
            ],
            "text/plain": [
              "<IPython.core.display.HTML object>"
            ]
          },
          "metadata": {}
        },
        {
          "output_type": "display_data",
          "data": {
            "text/html": [
              "Find internal logs for this run at: <code>/content/wandb/run-20210927_051302-28h6tm76/logs/debug-internal.log</code>"
            ],
            "text/plain": [
              "<IPython.core.display.HTML object>"
            ]
          },
          "metadata": {}
        },
        {
          "output_type": "display_data",
          "data": {
            "text/html": [
              "<h3>Run summary:</h3><br/><style>\n",
              "    table.wandb td:nth-child(1) { padding: 0 10px; text-align: right }\n",
              "    </style><table class=\"wandb\">\n",
              "<tr><td>best_epoch</td><td>23</td></tr><tr><td>best_val_loss</td><td>0.38152</td></tr><tr><td>epoch</td><td>24</td></tr><tr><td>loss</td><td>0.16618</td></tr><tr><td>val_loss</td><td>0.40283</td></tr></table>"
            ],
            "text/plain": [
              "<IPython.core.display.HTML object>"
            ]
          },
          "metadata": {}
        },
        {
          "output_type": "display_data",
          "data": {
            "text/html": [
              "<h3>Run history:</h3><br/><style>\n",
              "    table.wandb td:nth-child(1) { padding: 0 10px; text-align: right }\n",
              "    </style><table class=\"wandb\">\n",
              "<tr><td>epoch</td><td>▁▁▂▂▂▂▃▃▃▄▄▄▅▅▅▅▆▆▆▇▇▇▇██</td></tr><tr><td>loss</td><td>█▅▅▄▃▂▂▂▁▁▁▁▁▁▁▁▁▁▁▁▁▁▁▁▁</td></tr><tr><td>val_loss</td><td>█▇█▆▆▃▂▃▃▁▂▂▃▂▁▂▃▂▂▂▃▁▁▁▂</td></tr></table><br/>"
            ],
            "text/plain": [
              "<IPython.core.display.HTML object>"
            ]
          },
          "metadata": {}
        },
        {
          "output_type": "display_data",
          "data": {
            "text/html": [
              "Synced 5 W&B file(s), 1 media file(s), 0 artifact file(s) and 1 other file(s)"
            ],
            "text/plain": [
              "<IPython.core.display.HTML object>"
            ]
          },
          "metadata": {}
        },
        {
          "output_type": "display_data",
          "data": {
            "text/html": [
              "\n",
              "                    <br/>Synced <strong style=\"color:#cdcd00\">Collaborative_Neural_Networks_Keras</strong>: <a href=\"https://wandb.ai/team-stars-project/pythoncollaborative/runs/28h6tm76\" target=\"_blank\">https://wandb.ai/team-stars-project/pythoncollaborative/runs/28h6tm76</a><br/>\n",
              "                "
            ],
            "text/plain": [
              "<IPython.core.display.HTML object>"
            ]
          },
          "metadata": {}
        }
      ]
    },
    {
      "cell_type": "markdown",
      "metadata": {
        "id": "Ekkzkzr2PJSa"
      },
      "source": [
        "#### Prediction performance of Neural Network based recommender system"
      ]
    },
    {
      "cell_type": "code",
      "metadata": {
        "id": "651Aai-3PJSb",
        "colab": {
          "base_uri": "https://localhost:8080/"
        },
        "outputId": "06fab9eb-b2bb-4c5b-a917-70f78c599299"
      },
      "source": [
        "y_hat_2 = np.round(model.predict([test.user_id, test.item_id]),0)\n",
        "print(mean_absolute_error(y_true, y_hat_2))\n",
        "print(mean_absolute_error(y_true, model.predict([test.user_id, test.item_id])))"
      ],
      "execution_count": 34,
      "outputs": [
        {
          "output_type": "stream",
          "name": "stdout",
          "text": [
            "0.3536262572789836\n",
            "0.3948915587839719\n"
          ]
        }
      ]
    },
    {
      "cell_type": "markdown",
      "metadata": {
        "id": "UPIZAOelPJSb"
      },
      "source": [
        "Pretty similar to the result we got using matrix factorisation. Maybe, we need to tweak around a lot more with the neural network to get better results?"
      ]
    },
    {
      "cell_type": "markdown",
      "metadata": {
        "id": "eYz3KAYKPJSb"
      },
      "source": [
        "Thanks for reading. This post has been a good learning experience for me. Hope you enjoyed too! "
      ]
    }
  ]
}